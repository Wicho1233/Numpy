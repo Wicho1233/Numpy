{
  "cells": [
    {
      "cell_type": "markdown",
      "metadata": {
        "id": "LBHCcCHWzOH5"
      },
      "source": [
        "#Introduccion a Numpy\n"
      ]
    },
    {
      "cell_type": "markdown",
      "metadata": {
        "id": "C4OFu5XTzSHJ"
      },
      "source": [
        "[Numpy](https://numpy.org/) es una biblioteca fundamental para la computacion cientifica con Python.\n",
        "\n",
        "* Proporciona arrays N-Dimencionales.\n",
        "* Implementa funciones matematicas sofisticadas.\n",
        "* Proporciona herramientas para integrar c/c++ y Fortran.\n",
        "* Proporciona mecanismos para facilitar la realizacion de tareas relacionadas con algebra lineal o numeros aleatorios.|"
      ]
    },
    {
      "cell_type": "markdown",
      "metadata": {
        "id": "_Uj8PJLJ0ubj"
      },
      "source": [
        "#Imports\n"
      ]
    },
    {
      "cell_type": "code",
      "execution_count": null,
      "metadata": {
        "id": "Z2bWRG5q01Mo"
      },
      "outputs": [],
      "source": [
        "import numpy as np\n"
      ]
    },
    {
      "cell_type": "markdown",
      "metadata": {
        "id": "iErQTNUY1C_B"
      },
      "source": [
        "### Array\n",
        "\n",
        "Un **array** es una estructura de datos que consiste en una coleccion de elementos  (valores o variables), cada uno identifiado por al mens un indice o clave. Un array se almacena de modo que la posicion de cada elemento se pueda calcular a partir de su tupla de indice mediante su formula matematica.El tipo mas simple del array es un  array lineal ,tambien llamado array unidimensional."
      ]
    },
    {
      "cell_type": "markdown",
      "metadata": {
        "id": "SWFQj4jO9BMz"
      },
      "source": [
        "En numpy:\n",
        "\n",
        "* cada dimension se denomina **axis**\n",
        "* El numero de dimensiones se denomina **rank**\n",
        "* La lista de dimensiones co su corrrespondiente longitud se denomina **shape**\n",
        "* El numero total de elementos(Multiplicaion de la longitud por las dimensionnes)\n"
      ]
    },
    {
      "cell_type": "code",
      "execution_count": 7,
      "metadata": {
        "id": "gIewQBHw20mv"
      },
      "outputs": [],
      "source": [
        "a = np.zeros((2,4))"
      ]
    },
    {
      "cell_type": "code",
      "execution_count": 8,
      "metadata": {
        "colab": {
          "base_uri": "https://localhost:8080/"
        },
        "id": "Xb1n_Mqv28MN",
        "outputId": "c56c821f-d09f-446d-eb25-afce4dceb02c"
      },
      "outputs": [
        {
          "data": {
            "text/plain": [
              "array([[0., 0., 0., 0.],\n",
              "       [0., 0., 0., 0.]])"
            ]
          },
          "execution_count": 8,
          "metadata": {},
          "output_type": "execute_result"
        }
      ],
      "source": [
        "a\n"
      ]
    },
    {
      "cell_type": "markdown",
      "metadata": {
        "id": "A5eBqU4U3egM"
      },
      "source": [
        "**a** es un array:\n",
        "* Con dos **axis**, la primra de longitud 2 y el segundo de longtud.\n",
        "* Con un **rank** igual a 2\n",
        "* Con un **shape** igual de 2,4\n",
        "* Con un **size** igual a 8"
      ]
    },
    {
      "cell_type": "code",
      "execution_count": 9,
      "metadata": {
        "colab": {
          "base_uri": "https://localhost:8080/"
        },
        "id": "R9LVG5eU3A68",
        "outputId": "a4366716-7944-4580-f22f-799ad39c7811"
      },
      "outputs": [
        {
          "data": {
            "text/plain": [
              "(2, 4)"
            ]
          },
          "execution_count": 9,
          "metadata": {},
          "output_type": "execute_result"
        }
      ],
      "source": [
        "a.shape"
      ]
    },
    {
      "cell_type": "code",
      "execution_count": 10,
      "metadata": {
        "colab": {
          "base_uri": "https://localhost:8080/"
        },
        "id": "6ZJmbtev4nBK",
        "outputId": "6ce86227-cefd-4d35-9059-d0c1b2f0ff57"
      },
      "outputs": [
        {
          "data": {
            "text/plain": [
              "8"
            ]
          },
          "execution_count": 10,
          "metadata": {},
          "output_type": "execute_result"
        }
      ],
      "source": [
        "a.size"
      ]
    },
    {
      "cell_type": "markdown",
      "metadata": {
        "id": "re4jolBP4p9y"
      },
      "source": [
        "### Creacion de arrays"
      ]
    },
    {
      "cell_type": "code",
      "execution_count": 11,
      "metadata": {
        "colab": {
          "base_uri": "https://localhost:8080/"
        },
        "id": "OSue7pD_4oyQ",
        "outputId": "9cdb1d34-2bd7-4462-bc51-6071a40d93ff"
      },
      "outputs": [
        {
          "data": {
            "text/plain": [
              "array([[[0., 0., 0., 0.],\n",
              "        [0., 0., 0., 0.],\n",
              "        [0., 0., 0., 0.]],\n",
              "\n",
              "       [[0., 0., 0., 0.],\n",
              "        [0., 0., 0., 0.],\n",
              "        [0., 0., 0., 0.]]])"
            ]
          },
          "execution_count": 11,
          "metadata": {},
          "output_type": "execute_result"
        }
      ],
      "source": [
        "# Array cuyos alores son todos 0\n",
        "np.zeros((2,3,4)) #dimension,fila,columna"
      ]
    },
    {
      "cell_type": "code",
      "execution_count": 12,
      "metadata": {
        "colab": {
          "base_uri": "https://localhost:8080/"
        },
        "id": "-cPbSVfw6Zrs",
        "outputId": "963d672c-a0de-47f0-e6f3-cf20d7d53a82"
      },
      "outputs": [
        {
          "data": {
            "text/plain": [
              "array([[[1., 1., 1., 1.],\n",
              "        [1., 1., 1., 1.],\n",
              "        [1., 1., 1., 1.]],\n",
              "\n",
              "       [[1., 1., 1., 1.],\n",
              "        [1., 1., 1., 1.],\n",
              "        [1., 1., 1., 1.]]])"
            ]
          },
          "execution_count": 12,
          "metadata": {},
          "output_type": "execute_result"
        }
      ],
      "source": [
        "#Aarray cuyos valores son todos1\n",
        "np.ones((2,3,4,))"
      ]
    },
    {
      "cell_type": "code",
      "execution_count": 13,
      "metadata": {
        "colab": {
          "base_uri": "https://localhost:8080/"
        },
        "id": "Nr0SBTlK6iem",
        "outputId": "1c57941f-c7dc-49df-f1cf-311776a9784d"
      },
      "outputs": [
        {
          "data": {
            "text/plain": [
              "array([[[8, 8, 8, 8],\n",
              "        [8, 8, 8, 8],\n",
              "        [8, 8, 8, 8]],\n",
              "\n",
              "       [[8, 8, 8, 8],\n",
              "        [8, 8, 8, 8],\n",
              "        [8, 8, 8, 8]]])"
            ]
          },
          "execution_count": 13,
          "metadata": {},
          "output_type": "execute_result"
        }
      ],
      "source": [
        "#Array cuyos valores son todos el valor indicadao como segundo parametro de la funcion\n",
        "np.full((2,3,4),8)"
      ]
    },
    {
      "cell_type": "code",
      "execution_count": 14,
      "metadata": {
        "colab": {
          "base_uri": "https://localhost:8080/"
        },
        "id": "LU8dp43l7vb0",
        "outputId": "3732792e-699f-488d-c964-8d5d8f601444"
      },
      "outputs": [
        {
          "data": {
            "text/plain": [
              "array([[[1., 1., 1., 1.],\n",
              "        [1., 1., 1., 1.],\n",
              "        [1., 1., 1., 1.]],\n",
              "\n",
              "       [[1., 1., 1., 1.],\n",
              "        [1., 1., 1., 1.],\n",
              "        [1., 1., 1., 1.]]])"
            ]
          },
          "execution_count": 14,
          "metadata": {},
          "output_type": "execute_result"
        }
      ],
      "source": [
        "#EL resultado de np.empy no es predecible\n",
        "#Inicializa los valores del arrray conn lo que hay en memoria en ese momento\n",
        "np.empty((2,3,4))"
      ]
    },
    {
      "cell_type": "code",
      "execution_count": 15,
      "metadata": {
        "colab": {
          "base_uri": "https://localhost:8080/"
        },
        "id": "Tc23NAnC8UAT",
        "outputId": "6b5e8e8c-1af0-4e77-816d-5683d4188406"
      },
      "outputs": [
        {
          "data": {
            "text/plain": [
              "array([[1, 2, 3],\n",
              "       [4, 5, 6]])"
            ]
          },
          "execution_count": 15,
          "metadata": {},
          "output_type": "execute_result"
        }
      ],
      "source": [
        "#Inicializar un array con un array de python\n",
        "b =np.array([[1,2,3],[4,5,6]])\n",
        "b"
      ]
    },
    {
      "cell_type": "code",
      "execution_count": 16,
      "metadata": {
        "colab": {
          "base_uri": "https://localhost:8080/"
        },
        "id": "o6VByFHY89ks",
        "outputId": "cf8159a1-12e0-4f44-934f-b03625658a10"
      },
      "outputs": [
        {
          "data": {
            "text/plain": [
              "(2, 3)"
            ]
          },
          "execution_count": 16,
          "metadata": {},
          "output_type": "execute_result"
        }
      ],
      "source": [
        "b.shape"
      ]
    },
    {
      "cell_type": "code",
      "execution_count": 30,
      "metadata": {
        "colab": {
          "base_uri": "https://localhost:8080/"
        },
        "id": "ccHlVYc09Lkg",
        "outputId": "12ff3871-1b28-4928-cd0f-a4e879f6865c"
      },
      "outputs": [
        {
          "name": "stdout",
          "output_type": "stream",
          "text": [
            "[0.         0.66666667 1.33333333 2.         2.66666667 3.33333333\n",
            " 4.         4.66666667 5.33333333 6.        ]\n"
          ]
        }
      ],
      "source": [
        "#Crear un array utilizando un a funcion basada de  rangos\n",
        "#(min,max,num de elementos)\n",
        "print(np.linspace(0,6,10))"
      ]
    },
    {
      "cell_type": "code",
      "execution_count": 18,
      "metadata": {
        "colab": {
          "base_uri": "https://localhost:8080/"
        },
        "id": "v-aU9REt-dAV",
        "outputId": "54581725-92c4-494e-9136-ee1124d7fd4f"
      },
      "outputs": [
        {
          "data": {
            "text/plain": [
              "array([[[0.31909201, 0.09761143, 0.10988906, 0.63955009],\n",
              "        [0.92584032, 0.86488286, 0.98442816, 0.23673827],\n",
              "        [0.56919047, 0.19245599, 0.1659569 , 0.05981378]],\n",
              "\n",
              "       [[0.28158916, 0.64253249, 0.75921187, 0.13651442],\n",
              "        [0.60633681, 0.7021552 , 0.02685699, 0.59486632],\n",
              "        [0.7157611 , 0.88895567, 0.58549268, 0.6782896 ]]])"
            ]
          },
          "execution_count": 18,
          "metadata": {},
          "output_type": "execute_result"
        }
      ],
      "source": [
        "#Inicializar un Array con valores aleatorios\n",
        "np.random.rand(2,3,4)"
      ]
    },
    {
      "cell_type": "code",
      "execution_count": 20,
      "metadata": {
        "colab": {
          "base_uri": "https://localhost:8080/"
        },
        "id": "_sBIrZwS-cxF",
        "outputId": "766da3c7-7f63-43a2-a5e0-aca1d192c968"
      },
      "outputs": [
        {
          "data": {
            "text/plain": [
              "array([[0.78500369, 0.34688043, 0.19090724, 0.27466672],\n",
              "       [0.89202502, 0.35859256, 0.94139124, 0.07016772]])"
            ]
          },
          "execution_count": 20,
          "metadata": {},
          "output_type": "execute_result"
        }
      ],
      "source": [
        "#Inicializar una distribucion normal\n",
        "\n",
        "np.random.rand(2,4)"
      ]
    },
    {
      "cell_type": "code",
      "execution_count": 21,
      "metadata": {
        "colab": {
          "base_uri": "https://localhost:8080/",
          "height": 600
        },
        "id": "Yf-wsvqQ_TMi",
        "outputId": "c018f755-9f7f-409b-b703-de52b31fea0c"
      },
      "outputs": [
        {
          "data": {
            "text/html": [
              "<div style=\"max-width:800px; border: 1px solid var(--colab-border-color);\"><style>\n",
              "      pre.function-repr-contents {\n",
              "        overflow-x: auto;\n",
              "        padding: 8px 12px;\n",
              "        max-height: 500px;\n",
              "      }\n",
              "\n",
              "      pre.function-repr-contents.function-repr-contents-collapsed {\n",
              "        cursor: pointer;\n",
              "        max-height: 100px;\n",
              "      }\n",
              "    </style>\n",
              "    <pre style=\"white-space: initial; background:\n",
              "         var(--colab-secondary-surface-color); padding: 8px 12px;\n",
              "         border-bottom: 1px solid var(--colab-border-color);\"><b>matplotlib.pyplot.show</b><br/>def show(*args, **kwargs) -&gt; None</pre><pre class=\"function-repr-contents function-repr-contents-collapsed\" style=\"\"><a class=\"filepath\" style=\"display:none\" href=\"#\">/usr/local/lib/python3.12/dist-packages/matplotlib/pyplot.py</a>Display all open figures.\n",
              "\n",
              "Parameters\n",
              "----------\n",
              "block : bool, optional\n",
              "    Whether to wait for all figures to be closed before returning.\n",
              "\n",
              "    If `True` block and run the GUI main loop until all figure windows\n",
              "    are closed.\n",
              "\n",
              "    If `False` ensure that all figure windows are displayed and return\n",
              "    immediately.  In this case, you are responsible for ensuring\n",
              "    that the event loop is running to have responsive figures.\n",
              "\n",
              "    Defaults to True in non-interactive mode and to False in interactive\n",
              "    mode (see `.pyplot.isinteractive`).\n",
              "\n",
              "See Also\n",
              "--------\n",
              "ion : Enable interactive mode, which shows / updates the figure after\n",
              "      every plotting command, so that calling ``show()`` is not necessary.\n",
              "ioff : Disable interactive mode.\n",
              "savefig : Save the figure to an image file instead of showing it on screen.\n",
              "\n",
              "Notes\n",
              "-----\n",
              "**Saving figures to file and showing a window at the same time**\n",
              "\n",
              "If you want an image file as well as a user interface window, use\n",
              "`.pyplot.savefig` before `.pyplot.show`. At the end of (a blocking)\n",
              "``show()`` the figure is closed and thus unregistered from pyplot. Calling\n",
              "`.pyplot.savefig` afterwards would save a new and thus empty figure. This\n",
              "limitation of command order does not apply if the show is non-blocking or\n",
              "if you keep a reference to the figure and use `.Figure.savefig`.\n",
              "\n",
              "**Auto-show in jupyter notebooks**\n",
              "\n",
              "The jupyter backends (activated via ``%matplotlib inline``,\n",
              "``%matplotlib notebook``, or ``%matplotlib widget``), call ``show()`` at\n",
              "the end of every cell by default. Thus, you usually don&#x27;t have to call it\n",
              "explicitly there.</pre>\n",
              "      <script>\n",
              "      if (google.colab.kernel.accessAllowed && google.colab.files && google.colab.files.view) {\n",
              "        for (const element of document.querySelectorAll('.filepath')) {\n",
              "          element.style.display = 'block'\n",
              "          element.onclick = (event) => {\n",
              "            event.preventDefault();\n",
              "            event.stopPropagation();\n",
              "            google.colab.files.view(element.textContent, 569);\n",
              "          };\n",
              "        }\n",
              "      }\n",
              "      for (const element of document.querySelectorAll('.function-repr-contents')) {\n",
              "        element.onclick = (event) => {\n",
              "          event.preventDefault();\n",
              "          event.stopPropagation();\n",
              "          element.classList.toggle('function-repr-contents-collapsed');\n",
              "        };\n",
              "      }\n",
              "      </script>\n",
              "      </div>"
            ],
            "text/plain": [
              "<function matplotlib.pyplot.show(close=None, block=None)>"
            ]
          },
          "execution_count": 21,
          "metadata": {},
          "output_type": "execute_result"
        },
        {
          "data": {
            "image/png": "[encoded data removed]",
            "text/plain": [
              "<Figure size 640x480 with 1 Axes>"
            ]
          },
          "metadata": {},
          "output_type": "display_data"
        }
      ],
      "source": [
        "%matplotlib inline\n",
        "import matplotlib.pyplot as plt\n",
        "\n",
        "C = np.random.randn(100000)\n",
        "plt.hist(C,bins=500)\n",
        "plt.show()\n",
        "\n",
        "\n"
      ]
    },
    {
      "cell_type": "code",
      "execution_count": 24,
      "metadata": {
        "colab": {
          "base_uri": "https://localhost:8080/"
        },
        "id": "r1Q1ZEbhADBY",
        "outputId": "90b4486a-54f9-4610-d55d-ffd646c91225"
      },
      "outputs": [
        {
          "data": {
            "text/plain": [
              "array([[ 0.,  2.,  4.,  6.,  8.],\n",
              "       [ 1.,  3.,  5.,  7.,  9.],\n",
              "       [ 2.,  4.,  6.,  8., 10.]])"
            ]
          },
          "execution_count": 24,
          "metadata": {},
          "output_type": "execute_result"
        }
      ],
      "source": [
        "#Inicializar un arrayutilizando una funcion personalizada\n",
        "\n",
        "def func(X,y):\n",
        "  return X + 2 * y\n",
        "\n",
        "np.fromfunction(func,(3,5))"
      ]
    },
    {
      "cell_type": "markdown",
      "metadata": {
        "id": "OK_0i3PIA5Ck"
      },
      "source": [
        "### Acceso a los elementos de un array"
      ]
    },
    {
      "cell_type": "markdown",
      "metadata": {
        "id": "MicNg1nRA_gE"
      },
      "source": [
        "#Array Unidimensional\n"
      ]
    },
    {
      "cell_type": "code",
      "execution_count": 26,
      "metadata": {
        "colab": {
          "base_uri": "https://localhost:8080/"
        },
        "id": "9J4rpWyABDHB",
        "outputId": "4a462941-4131-48a4-8a27-5689a75114c4"
      },
      "outputs": [
        {
          "name": "stdout",
          "output_type": "stream",
          "text": [
            "Shape: (6,)\n",
            "Array_uni [ 1  3  5  7  9 11]\n"
          ]
        }
      ],
      "source": [
        "#Creacion de un array unidimensional\n",
        "\n",
        "array_uni = np.array([1,3,5,7,9,11])\n",
        "print(\"Shape:\",array_uni.shape)\n",
        "print(\"Array_uni\",array_uni)"
      ]
    },
    {
      "cell_type": "code",
      "execution_count": 27,
      "metadata": {
        "colab": {
          "base_uri": "https://localhost:8080/"
        },
        "id": "85fUCsUjBtqn",
        "outputId": "2a7b5b4f-af13-48d2-e2d2-096bf696d50b"
      },
      "outputs": [
        {
          "data": {
            "text/plain": [
              "np.int64(9)"
            ]
          },
          "execution_count": 27,
          "metadata": {},
          "output_type": "execute_result"
        }
      ],
      "source": [
        "#Acceder al quinto elemento del array\n",
        "\n",
        "array_uni[4]"
      ]
    },
    {
      "cell_type": "code",
      "execution_count": 28,
      "metadata": {
        "colab": {
          "base_uri": "https://localhost:8080/"
        },
        "id": "Z7cRXkI1B8EX",
        "outputId": "181a5c5e-67a7-4326-a202-051193da19cb"
      },
      "outputs": [
        {
          "data": {
            "text/plain": [
              "array([5, 7])"
            ]
          },
          "execution_count": 28,
          "metadata": {},
          "output_type": "execute_result"
        }
      ],
      "source": [
        "array_uni[2:4]"
      ]
    },
    {
      "cell_type": "code",
      "execution_count": 29,
      "metadata": {
        "colab": {
          "base_uri": "https://localhost:8080/"
        },
        "id": "xGduM8a0DP0z",
        "outputId": "0aca7651-e8f3-499c-ab84-e1b90c09a7f3"
      },
      "outputs": [
        {
          "data": {
            "text/plain": [
              "array([ 1,  7, 11])"
            ]
          },
          "execution_count": 29,
          "metadata": {},
          "output_type": "execute_result"
        }
      ],
      "source": [
        "#Acceder al elemento 0,3 y 5 del array\n",
        "array_uni[[0,3,5]]"
      ]
    },
    {
      "cell_type": "markdown",
      "metadata": {
        "id": "aZ_hxSCzB7y_"
      },
      "source": [
        "#### Array Multidimensional"
      ]
    },
    {
      "cell_type": "code",
      "execution_count": 31,
      "metadata": {
        "colab": {
          "base_uri": "https://localhost:8080/"
        },
        "id": "A70s2m0jDzRm",
        "outputId": "abf2c789-72f0-4eb1-c5a8-4bbcc97f89bb"
      },
      "outputs": [
        {
          "name": "stdout",
          "output_type": "stream",
          "text": [
            "Shape (2, 4)\n",
            "Array_multi  [[1 2 3 4]\n",
            " [5 6 7 8]]\n"
          ]
        }
      ],
      "source": [
        "#Crear un  array Multidimensional\n",
        "array_multi = np.array([[1,2,3,4],[5,6,7,8]])\n",
        "print(\"Shape\",array_multi.shape)\n",
        "print(\"Array_multi \",array_multi)"
      ]
    },
    {
      "cell_type": "code",
      "execution_count": 32,
      "metadata": {
        "colab": {
          "base_uri": "https://localhost:8080/"
        },
        "id": "LDywSyE_EkO4",
        "outputId": "2a03078c-dea6-4246-e240-e8ac9e6c85ae"
      },
      "outputs": [
        {
          "data": {
            "text/plain": [
              "np.int64(4)"
            ]
          },
          "execution_count": 32,
          "metadata": {},
          "output_type": "execute_result"
        }
      ],
      "source": [
        "#Acceder a un elemento de un array multidimensional\n",
        "\n",
        "array_multi[0,3]"
      ]
    },
    {
      "cell_type": "code",
      "execution_count": 33,
      "metadata": {
        "colab": {
          "base_uri": "https://localhost:8080/"
        },
        "id": "g-q8UfLhEuC4",
        "outputId": "c78868be-ef2d-4bac-9e93-a53533379089"
      },
      "outputs": [
        {
          "data": {
            "text/plain": [
              "array([5, 6, 7, 8])"
            ]
          },
          "execution_count": 33,
          "metadata": {},
          "output_type": "execute_result"
        }
      ],
      "source": [
        "#Acceder a la segunda fila del array\n",
        "array_multi[1,:]"
      ]
    },
    {
      "cell_type": "code",
      "execution_count": 34,
      "metadata": {
        "colab": {
          "base_uri": "https://localhost:8080/"
        },
        "id": "XGQT432JE9Oo",
        "outputId": "f7fb6f48-d01f-4725-ad1d-2f0d66bbad15"
      },
      "outputs": [
        {
          "data": {
            "text/plain": [
              "array([3, 7])"
            ]
          },
          "execution_count": 34,
          "metadata": {},
          "output_type": "execute_result"
        }
      ],
      "source": [
        "#Acceder al elemento de las dos primeras filas del array\n",
        "array_multi[0:2,2]"
      ]
    },
    {
      "cell_type": "markdown",
      "metadata": {
        "id": "My5xJzGzF2q_"
      },
      "source": [
        "#### Modificar un array\n"
      ]
    },
    {
      "cell_type": "code",
      "execution_count": 36,
      "metadata": {
        "colab": {
          "base_uri": "https://localhost:8080/"
        },
        "id": "eVyLNC9sF5yT",
        "outputId": "5f7bf009-e02a-4413-8025-ecd5b6fa87a5"
      },
      "outputs": [
        {
          "name": "stdout",
          "output_type": "stream",
          "text": [
            "Shape: (28,)\n",
            "Array1: \n",
            " [ 0  1  2  3  4  5  6  7  8  9 10 11 12 13 14 15 16 17 18 19 20 21 22 23\n",
            " 24 25 26 27]\n"
          ]
        }
      ],
      "source": [
        "#Crear un array unidimensional e inicializarlo con el rango\n",
        "# de elementos  del 0 al 27\n",
        "\n",
        "array1=np.arange(28)\n",
        "print(\"Shape:\",array1.shape)\n",
        "print(\"Array1: \\n\", array1)"
      ]
    },
    {
      "cell_type": "code",
      "execution_count": 37,
      "metadata": {
        "colab": {
          "base_uri": "https://localhost:8080/"
        },
        "id": "3mX8qW3BG-yP",
        "outputId": "147282cf-911d-49d8-dad5-2e1be220e64d"
      },
      "outputs": [
        {
          "name": "stdout",
          "output_type": "stream",
          "text": [
            "Array1: \n",
            " [[ 0  1  2  3]\n",
            " [ 4  5  6  7]\n",
            " [ 8  9 10 11]\n",
            " [12 13 14 15]\n",
            " [16 17 18 19]\n",
            " [20 21 22 23]\n",
            " [24 25 26 27]]\n"
          ]
        }
      ],
      "source": [
        "#Cambiar las dimensiones del array y sus olongitudes\n",
        "\n",
        "array1.shape = (7,4)\n",
        "print(\"Array1: \\n\", array1)"
      ]
    },
    {
      "cell_type": "code",
      "execution_count": 38,
      "metadata": {
        "colab": {
          "base_uri": "https://localhost:8080/"
        },
        "id": "p77qbi6RHUsh",
        "outputId": "b19eed23-74ed-4dd7-f745-35374e8fe210"
      },
      "outputs": [
        {
          "name": "stdout",
          "output_type": "stream",
          "text": [
            "Shape: (4, 7)\n",
            "Array1: \n",
            " [[ 0  1  2  3]\n",
            " [ 4  5  6  7]\n",
            " [ 8  9 10 11]\n",
            " [12 13 14 15]\n",
            " [16 17 18 19]\n",
            " [20 21 22 23]\n",
            " [24 25 26 27]]\n",
            "Array2: \n",
            " [[ 0  1  2  3  4  5  6]\n",
            " [ 7  8  9 10 11 12 13]\n",
            " [14 15 16 17 18 19 20]\n",
            " [21 22 23 24 25 26 27]]\n"
          ]
        }
      ],
      "source": [
        "#El ejemplo anterior devuelve un nuevo array que apunta a los mismos datos\n",
        "#NOTA: La modificaciones de un array modifica el otro array\n",
        "\n",
        "array2 = array1.reshape(4,7)\n",
        "print(\"Shape:\",array2.shape)\n",
        "print(\"Array1: \\n\", array1)\n",
        "print(\"Array2: \\n\", array2)"
      ]
    },
    {
      "cell_type": "code",
      "execution_count": 40,
      "metadata": {
        "colab": {
          "base_uri": "https://localhost:8080/"
        },
        "id": "4TfKx570H7mi",
        "outputId": "dd18d629-aeea-4987-f62a-24fbcbd7526a"
      },
      "outputs": [
        {
          "name": "stdout",
          "output_type": "stream",
          "text": [
            "Array1 \n",
            " [[ 0  1  2 20]\n",
            " [ 4  5  6  7]\n",
            " [ 8  9 10 11]\n",
            " [12 13 14 15]\n",
            " [16 17 18 19]\n",
            " [20 21 22 23]\n",
            " [24 25 26 27]]\n",
            "Array2 \n",
            " [[ 0  1  2 20  4  5  6]\n",
            " [ 7  8  9 10 11 12 13]\n",
            " [14 15 16 17 18 19 20]\n",
            " [21 22 23 24 25 26 27]]\n"
          ]
        }
      ],
      "source": [
        "#Modificar el array devuelto\n",
        "\n",
        "array2[0,3] = 20\n",
        "print(\"Array1 \\n\",array1)\n",
        "print(\"Array2 \\n\" ,array2)"
      ]
    }
  ],
  "metadata": {
    "colab": {
      "provenance": []
    },
    "kernelspec": {
      "display_name": "env",
      "language": "python",
      "name": "python3"
    },
    "language_info": {
      "codemirror_mode": {
        "name": "ipython",
        "version": 3
      },
      "file_extension": ".py",
      "mimetype": "text/x-python",
      "name": "python",
      "nbconvert_exporter": "python",
      "pygments_lexer": "ipython3",
      "version": "3.13.7"
    }
  },
  "nbformat": 4,
  "nbformat_minor": 0
}
