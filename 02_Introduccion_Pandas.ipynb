{
 "cells": [
  {
   "cell_type": "markdown",
   "id": "cbe6bae8",
   "metadata": {},
   "source": [
    "# Introduccion a Pandas \n",
    "[Pandas](https://pandas.pydata.org/about/index.html) es una biblioteca que proporciona estructuras de datos y herramientas de analisis de datos de alto rendimiento y faciles de usar.\n",
    "\n",
    "* La estructura de datos principal es el **DataFrame** que pude onsiderarase como una tabla 2D en memoria (como una hoja de calculo, con nombres de columna y etiquetas de fila).\n",
    "\n",
    "* Muchas funciones disponiubles en excel estan disponibles mediante programacion como crear tablas dinamicas, calcular columnas basadas en otras columnas, trazar graficos, etc.\n",
    "\n",
    "* Proporciona un alto rendimiento para manipular (unir, dividir, modificar ...) grandes conjuntos de datos.\n"
   ]
  },
  {
   "cell_type": "markdown",
   "id": "af45ccd9",
   "metadata": {},
   "source": [
    "### Import"
   ]
  },
  {
   "cell_type": "code",
   "execution_count": 1,
   "id": "48ddf4c8",
   "metadata": {},
   "outputs": [],
   "source": [
    "import pandas as pd"
   ]
  },
  {
   "cell_type": "markdown",
   "id": "b3037411",
   "metadata": {},
   "source": [
    "### Estructura de datos en pandas \n",
    "\n",
    "La biblioteca pandas, de manera generica, contiene las siguientes estructuras de datos.\n",
    "\n",
    "* **Series** : Array de una dimension\n",
    "* **DataFrame** : Se corresponde con una tabla de dos dimansiones\n",
    "* **Panel** :Similar a un diccionario de DataFrames."
   ]
  },
  {
   "cell_type": "markdown",
   "id": "40760da2",
   "metadata": {},
   "source": [
    "#### Creacion de objeto series\n"
   ]
  },
  {
   "cell_type": "code",
   "execution_count": 2,
   "id": "9b0fc45b",
   "metadata": {},
   "outputs": [
    {
     "name": "stdout",
     "output_type": "stream",
     "text": [
      "0     2\n",
      "1     4\n",
      "2     6\n",
      "3     8\n",
      "4    10\n",
      "dtype: int64\n"
     ]
    }
   ],
   "source": [
    "#Crear Objeto Series\n",
    "\n",
    "s = pd.Series([2,4,6,8,10])\n",
    "\n",
    "print(s)"
   ]
  },
  {
   "cell_type": "code",
   "execution_count": 3,
   "id": "a1ec0cf4",
   "metadata": {},
   "outputs": [
    {
     "name": "stdout",
     "output_type": "stream",
     "text": [
      "Mauricio    170\n",
      "Rebeca      160\n",
      "Arturo      169\n",
      "Yulisa      156\n",
      "dtype: int64\n"
     ]
    }
   ],
   "source": [
    "\n",
    "#Crear un objeto Series e inicializarlo con un diccionario de Python\n",
    "\n",
    "altura = {\"Mauricio\":170,\"Rebeca\":160,\"Arturo\":169,\"Yulisa\":156}\n",
    "s = pd.Series(altura)\n",
    "print(s)"
   ]
  },
  {
   "cell_type": "code",
   "execution_count": 4,
   "id": "ad8a8959",
   "metadata": {},
   "outputs": [
    {
     "name": "stdout",
     "output_type": "stream",
     "text": [
      "Rebeca    160\n",
      "Yulisa    156\n",
      "dtype: int64\n"
     ]
    }
   ],
   "source": [
    "#Crear un Objeto Sesries e inicializarlo con algunos de los elemeno de un diccionario de Python\n",
    "\n",
    "altura = {\"Mauricio\":170,\"Rebeca\":160,\"Arturo\":169,\"Yulisa\":156}\n",
    "s = pd.Series(altura,index = [\"Rebeca\",\"Yulisa\"])\n",
    "print(s)"
   ]
  },
  {
   "cell_type": "code",
   "execution_count": 5,
   "id": "038ac920",
   "metadata": {},
   "outputs": [
    {
     "name": "stdout",
     "output_type": "stream",
     "text": [
      "Test1    34\n",
      "Test2    34\n",
      "Test3    34\n",
      "dtype: int64\n"
     ]
    }
   ],
   "source": [
    "\n",
    "#Crear un Objeto Series e inicialzarlo con un Escalar\n",
    "\n",
    "s = pd.Series(34,[\"Test1\",\"Test2\",\"Test3\"])\n",
    "print(s)"
   ]
  },
  {
   "cell_type": "markdown",
   "id": "39dc7fd7",
   "metadata": {},
   "source": [
    "### Acceder a los elementos de un Objeto Series\n",
    "\n",
    "cada elemento en  un Objeto Series tiene un identificador unico que se denomina **index label**"
   ]
  },
  {
   "cell_type": "code",
   "execution_count": 6,
   "id": "1ab18779",
   "metadata": {},
   "outputs": [
    {
     "name": "stdout",
     "output_type": "stream",
     "text": [
      "Num1    2\n",
      "Num2    4\n",
      "Num3    6\n",
      "Num4    8\n",
      "dtype: int64\n"
     ]
    }
   ],
   "source": [
    "#Creacion de un Objeto Series\n",
    "\n",
    "s= pd.Series([2,4,6,8],index = [\"Num1\",\"Num2\",\"Num3\",\"Num4\"])\n",
    "print(s)"
   ]
  },
  {
   "cell_type": "code",
   "execution_count": 7,
   "id": "3fa8137d",
   "metadata": {},
   "outputs": [
    {
     "data": {
      "text/plain": [
       "np.int64(6)"
      ]
     },
     "execution_count": 7,
     "metadata": {},
     "output_type": "execute_result"
    }
   ],
   "source": [
    "\n",
    "##Acceder al tercer elemento deo Objeto Series\n",
    "\n",
    "s[\"Num3\"]"
   ]
  },
  {
   "cell_type": "code",
   "execution_count": 8,
   "id": "340f1837",
   "metadata": {},
   "outputs": [
    {
     "name": "stderr",
     "output_type": "stream",
     "text": [
      "/tmp/ipykernel_3092/2691711191.py:2: FutureWarning: Series.__getitem__ treating keys as positions is deprecated. In a future version, integer keys will always be treated as labels (consistent with DataFrame behavior). To access a value by position, use `ser.iloc[pos]`\n",
      "  s[2]\n"
     ]
    },
    {
     "data": {
      "text/plain": [
       "np.int64(6)"
      ]
     },
     "execution_count": 8,
     "metadata": {},
     "output_type": "execute_result"
    }
   ],
   "source": [
    "\n",
    "#Tambien se puede acceder al elemento por posicion \n",
    "s[2]"
   ]
  },
  {
   "cell_type": "code",
   "execution_count": 9,
   "id": "0c8ad6cc",
   "metadata": {},
   "outputs": [
    {
     "data": {
      "text/plain": [
       "np.int64(6)"
      ]
     },
     "execution_count": 9,
     "metadata": {},
     "output_type": "execute_result"
    }
   ],
   "source": [
    "#loc es la forma estandar de acceder a un elemento de un Objeto Series por atributo  \n",
    "s.loc['Num3']"
   ]
  },
  {
   "cell_type": "code",
   "execution_count": 10,
   "id": "0e52e70f",
   "metadata": {},
   "outputs": [
    {
     "data": {
      "text/plain": [
       "np.int64(6)"
      ]
     },
     "execution_count": 10,
     "metadata": {},
     "output_type": "execute_result"
    }
   ],
   "source": [
    "#ilooc es la forma estandar de acceder a un elemento de un Objeto Series por posicion  \n",
    "s.iloc[2]"
   ]
  },
  {
   "cell_type": "code",
   "execution_count": 11,
   "id": "78e9ba4a",
   "metadata": {},
   "outputs": [
    {
     "data": {
      "text/plain": [
       "Num3    6\n",
       "Num4    8\n",
       "dtype: int64"
      ]
     },
     "execution_count": 11,
     "metadata": {},
     "output_type": "execute_result"
    }
   ],
   "source": [
    "#Acceder al segundo tercer elemento por posicion\n",
    "\n",
    "s.iloc[2:4]"
   ]
  },
  {
   "cell_type": "code",
   "execution_count": 12,
   "id": "793cb8d1",
   "metadata": {},
   "outputs": [
    {
     "name": "stdout",
     "output_type": "stream",
     "text": [
      "0     2\n",
      "1     4\n",
      "2     6\n",
      "3     8\n",
      "4    10\n",
      "dtype: int64\n"
     ]
    }
   ],
   "source": [
    "### Operaciones aritmeticas con Objetos Series \n",
    "s =pd.Series([2,4,6,8,10])\n",
    "print(s)\n"
   ]
  },
  {
   "cell_type": "code",
   "execution_count": 13,
   "id": "4445898f",
   "metadata": {},
   "outputs": [
    {
     "data": {
      "text/plain": [
       "np.int64(30)"
      ]
     },
     "execution_count": 13,
     "metadata": {},
     "output_type": "execute_result"
    }
   ],
   "source": [
    "## Los Objetos Series son similares y compatibles con los arrays de Numpy\n",
    "\n",
    "import numpy as np\n",
    "\n",
    "#Ufunc de Numpy para sumar los elementos de un array\n",
    "\n",
    "np.sum(s)"
   ]
  },
  {
   "cell_type": "code",
   "execution_count": 14,
   "id": "7dc5cbc9",
   "metadata": {},
   "outputs": [
    {
     "data": {
      "text/plain": [
       "0     4\n",
       "1     8\n",
       "2    12\n",
       "3    16\n",
       "4    20\n",
       "dtype: int64"
      ]
     },
     "execution_count": 14,
     "metadata": {},
     "output_type": "execute_result"
    }
   ],
   "source": [
    "\n",
    "##El resto de las operciones aritmeticas de Numpy sobre arrays tambien son posibles \n",
    "# para mas informacion revisar la introduccion de Numpy\n",
    "\n",
    "s * 2\n",
    "\n"
   ]
  },
  {
   "cell_type": "markdown",
   "id": "ad16f316",
   "metadata": {},
   "source": [
    "\n",
    "### Representacion grafica de un Objeto Series"
   ]
  },
  {
   "cell_type": "code",
   "execution_count": 15,
   "id": "db416069",
   "metadata": {},
   "outputs": [
    {
     "data": {
      "text/plain": [
       "0    4.4\n",
       "1    5.1\n",
       "2    6.2\n",
       "3    6.1\n",
       "4    6.1\n",
       "5    5.7\n",
       "6    5.2\n",
       "7    4.7\n",
       "8    4.1\n",
       "9    3.9\n",
       "Name: Temperaturas, dtype: float64"
      ]
     },
     "execution_count": 15,
     "metadata": {},
     "output_type": "execute_result"
    }
   ],
   "source": [
    "temperaturas = [4.4,5.1,6.2,6.1,6.1,5.7,5.2,4.7,4.1,3.9]\n",
    "s = pd.Series(temperaturas, name = 'Temperaturas')\n",
    "s"
   ]
  },
  {
   "cell_type": "code",
   "execution_count": 16,
   "id": "ff3b1449",
   "metadata": {},
   "outputs": [
    {
     "data": {
      "image/png": "[encoded data removed]",
      "text/plain": [
       "<Figure size 640x480 with 1 Axes>"
      ]
     },
     "metadata": {},
     "output_type": "display_data"
    }
   ],
   "source": [
    "#Reprsentacion grafica del Onjeto Series\n",
    "\n",
    "%matplotlib inline\n",
    "\n",
    "import matplotlib.pyplot as plt\n",
    "\n",
    "s.plot()\n",
    "plt.show()"
   ]
  },
  {
   "cell_type": "markdown",
   "id": "44dbbae1",
   "metadata": {},
   "source": [
    " ### Crear un Objeto DataFrame "
   ]
  },
  {
   "cell_type": "code",
   "execution_count": 17,
   "id": "f2b1bd14",
   "metadata": {},
   "outputs": [
    {
     "data": {
      "text/html": [
       "<div>\n",
       "<style scoped>\n",
       "    .dataframe tbody tr th:only-of-type {\n",
       "        vertical-align: middle;\n",
       "    }\n",
       "\n",
       "    .dataframe tbody tr th {\n",
       "        vertical-align: top;\n",
       "    }\n",
       "\n",
       "    .dataframe thead th {\n",
       "        text-align: right;\n",
       "    }\n",
       "</style>\n",
       "<table border=\"1\" class=\"dataframe\">\n",
       "  <thead>\n",
       "    <tr style=\"text-align: right;\">\n",
       "      <th></th>\n",
       "      <th>Peso</th>\n",
       "      <th>Altura</th>\n",
       "      <th>Hijos</th>\n",
       "    </tr>\n",
       "  </thead>\n",
       "  <tbody>\n",
       "    <tr>\n",
       "      <th>Arturo</th>\n",
       "      <td>70</td>\n",
       "      <td>169</td>\n",
       "      <td>NaN</td>\n",
       "    </tr>\n",
       "    <tr>\n",
       "      <th>Mauricio</th>\n",
       "      <td>65</td>\n",
       "      <td>170</td>\n",
       "      <td>NaN</td>\n",
       "    </tr>\n",
       "    <tr>\n",
       "      <th>Rebeca</th>\n",
       "      <td>60</td>\n",
       "      <td>160</td>\n",
       "      <td>2.0</td>\n",
       "    </tr>\n",
       "    <tr>\n",
       "      <th>Yulisa</th>\n",
       "      <td>48</td>\n",
       "      <td>156</td>\n",
       "      <td>3.0</td>\n",
       "    </tr>\n",
       "  </tbody>\n",
       "</table>\n",
       "</div>"
      ],
      "text/plain": [
       "          Peso  Altura  Hijos\n",
       "Arturo      70     169    NaN\n",
       "Mauricio    65     170    NaN\n",
       "Rebeca      60     160    2.0\n",
       "Yulisa      48     156    3.0"
      ]
     },
     "execution_count": 17,
     "metadata": {},
     "output_type": "execute_result"
    }
   ],
   "source": [
    "  \n",
    "#Crear un DataFrame e inicializarlo con un dcconario de Objetos Series.\n",
    "Personas = {\n",
    "    \"Peso\": pd.Series([65,60,70,48,],[\"Mauricio\",\"Rebeca\",\"Arturo\",\"Yulisa\"]),\n",
    "    \"Altura\" : pd.Series({\"Mauricio\":170,\"Rebeca\":160,\"Arturo\":169,\"Yulisa\":156}),\n",
    "    \"Hijos\" : pd.Series([2,3],[\"Rebeca\",\"Yulisa\"])\n",
    "} \n",
    "\n",
    "df = pd.DataFrame(Personas)\n",
    "\n",
    "df"
   ]
  },
  {
   "cell_type": "markdown",
   "id": "6faaf072",
   "metadata": {},
   "source": [
    "Puede forzarse al DataFrame a que presente unas columnas determinadas y en un orden determinado."
   ]
  },
  {
   "cell_type": "code",
   "execution_count": 18,
   "id": "3b35c6c6",
   "metadata": {},
   "outputs": [
    {
     "data": {
      "text/html": [
       "<div>\n",
       "<style scoped>\n",
       "    .dataframe tbody tr th:only-of-type {\n",
       "        vertical-align: middle;\n",
       "    }\n",
       "\n",
       "    .dataframe tbody tr th {\n",
       "        vertical-align: top;\n",
       "    }\n",
       "\n",
       "    .dataframe thead th {\n",
       "        text-align: right;\n",
       "    }\n",
       "</style>\n",
       "<table border=\"1\" class=\"dataframe\">\n",
       "  <thead>\n",
       "    <tr style=\"text-align: right;\">\n",
       "      <th></th>\n",
       "      <th>Altura</th>\n",
       "      <th>Peso</th>\n",
       "    </tr>\n",
       "  </thead>\n",
       "  <tbody>\n",
       "    <tr>\n",
       "      <th>Mauricio</th>\n",
       "      <td>170</td>\n",
       "      <td>65</td>\n",
       "    </tr>\n",
       "    <tr>\n",
       "      <th>Arturo</th>\n",
       "      <td>169</td>\n",
       "      <td>70</td>\n",
       "    </tr>\n",
       "  </tbody>\n",
       "</table>\n",
       "</div>"
      ],
      "text/plain": [
       "          Altura  Peso\n",
       "Mauricio     170    65\n",
       "Arturo       169    70"
      ]
     },
     "execution_count": 18,
     "metadata": {},
     "output_type": "execute_result"
    }
   ],
   "source": [
    "#Creacion de un DataFrame e inicializarlo con algunos elementos de un diccionario de ObjetosSeries\n",
    "\n",
    "Personas = {\n",
    "    \"Peso\": pd.Series([65,60,70,48,],[\"Mauricio\",\"Rebeca\",\"Arturo\",\"Yulisa\"]),\n",
    "    \"Altura\" : pd.Series({\"Mauricio\":170,\"Rebeca\":160,\"Arturo\":169,\"Yulisa\":156}),\n",
    "    \"Hijos\" : pd.Series([2,3],[\"Rebeca\",\"Yulisa\"])\n",
    "} \n",
    "\n",
    "\n",
    "df = pd.DataFrame(\n",
    "    Personas,\n",
    "    columns = [\"Altura\",\"Peso\"],\n",
    "    index = [\"Mauricio\",\"Arturo\"]\n",
    ") \n",
    "\n",
    "df"
   ]
  },
  {
   "cell_type": "code",
   "execution_count": 19,
   "id": "0a9f9d02",
   "metadata": {},
   "outputs": [
    {
     "data": {
      "text/plain": [
       "0"
      ]
     },
     "execution_count": 19,
     "metadata": {},
     "output_type": "execute_result"
    }
   ],
   "source": [
    "0"
   ]
  },
  {
   "cell_type": "code",
   "execution_count": 20,
   "id": "d2cc6036",
   "metadata": {},
   "outputs": [
    {
     "data": {
      "text/html": [
       "<div>\n",
       "<style scoped>\n",
       "    .dataframe tbody tr th:only-of-type {\n",
       "        vertical-align: middle;\n",
       "    }\n",
       "\n",
       "    .dataframe tbody tr th {\n",
       "        vertical-align: top;\n",
       "    }\n",
       "\n",
       "    .dataframe thead th {\n",
       "        text-align: right;\n",
       "    }\n",
       "</style>\n",
       "<table border=\"1\" class=\"dataframe\">\n",
       "  <thead>\n",
       "    <tr style=\"text-align: right;\">\n",
       "      <th></th>\n",
       "      <th>Altura</th>\n",
       "      <th>Hijos</th>\n",
       "      <th>Peso</th>\n",
       "    </tr>\n",
       "  </thead>\n",
       "  <tbody>\n",
       "    <tr>\n",
       "      <th>Mauricio</th>\n",
       "      <td>170</td>\n",
       "      <td>2</td>\n",
       "      <td>65</td>\n",
       "    </tr>\n",
       "    <tr>\n",
       "      <th>Rebeca</th>\n",
       "      <td>160</td>\n",
       "      <td>2</td>\n",
       "      <td>60</td>\n",
       "    </tr>\n",
       "    <tr>\n",
       "      <th>Arturo</th>\n",
       "      <td>169</td>\n",
       "      <td>1</td>\n",
       "      <td>70</td>\n",
       "    </tr>\n",
       "    <tr>\n",
       "      <th>Yulisa</th>\n",
       "      <td>156</td>\n",
       "      <td>3</td>\n",
       "      <td>48</td>\n",
       "    </tr>\n",
       "  </tbody>\n",
       "</table>\n",
       "</div>"
      ],
      "text/plain": [
       "          Altura  Hijos  Peso\n",
       "Mauricio     170      2    65\n",
       "Rebeca       160      2    60\n",
       "Arturo       169      1    70\n",
       "Yulisa       156      3    48"
      ]
     },
     "execution_count": 20,
     "metadata": {},
     "output_type": "execute_result"
    }
   ],
   "source": [
    "\n",
    "#Creacion de un DataFrame e inicializarlo con una lista de listas de Python\n",
    "#Deben especificarse las colunas e indices poe separado\n",
    "\n",
    "valores = [\n",
    "    [170,2,65],\n",
    "    [160,2,60],\n",
    "    [169,1,70],\n",
    "    [156,3,48]\n",
    "]\n",
    "\n",
    "df = pd.DataFrame(\n",
    "    valores,\n",
    "    columns = [\"Altura\",\"Hijos\",\"Peso\"],\n",
    "    index = [\"Mauricio\",\"Rebeca\",\"Arturo\",\"Yulisa\"]\n",
    ")\n",
    "\n",
    "df \n"
   ]
  },
  {
   "cell_type": "code",
   "execution_count": 21,
   "id": "d4a68bbb",
   "metadata": {},
   "outputs": [
    {
     "data": {
      "text/html": [
       "<div>\n",
       "<style scoped>\n",
       "    .dataframe tbody tr th:only-of-type {\n",
       "        vertical-align: middle;\n",
       "    }\n",
       "\n",
       "    .dataframe tbody tr th {\n",
       "        vertical-align: top;\n",
       "    }\n",
       "\n",
       "    .dataframe thead th {\n",
       "        text-align: right;\n",
       "    }\n",
       "</style>\n",
       "<table border=\"1\" class=\"dataframe\">\n",
       "  <thead>\n",
       "    <tr style=\"text-align: right;\">\n",
       "      <th></th>\n",
       "      <th>Peso</th>\n",
       "      <th>Altura</th>\n",
       "    </tr>\n",
       "  </thead>\n",
       "  <tbody>\n",
       "    <tr>\n",
       "      <th>Mauricio</th>\n",
       "      <td>65</td>\n",
       "      <td>170</td>\n",
       "    </tr>\n",
       "    <tr>\n",
       "      <th>Rebeca</th>\n",
       "      <td>60</td>\n",
       "      <td>160</td>\n",
       "    </tr>\n",
       "    <tr>\n",
       "      <th>Arturo</th>\n",
       "      <td>70</td>\n",
       "      <td>169</td>\n",
       "    </tr>\n",
       "    <tr>\n",
       "      <th>Yulisa</th>\n",
       "      <td>48</td>\n",
       "      <td>156</td>\n",
       "    </tr>\n",
       "  </tbody>\n",
       "</table>\n",
       "</div>"
      ],
      "text/plain": [
       "          Peso  Altura\n",
       "Mauricio    65     170\n",
       "Rebeca      60     160\n",
       "Arturo      70     169\n",
       "Yulisa      48     156"
      ]
     },
     "execution_count": 21,
     "metadata": {},
     "output_type": "execute_result"
    }
   ],
   "source": [
    "\n",
    "#Crear un DataFrame e nicializarlo con un diccionario de Python \n",
    "Personas = {\n",
    "    \"Peso\": pd.Series([65,60,70,48,],[\"Mauricio\",\"Rebeca\",\"Arturo\",\"Yulisa\"]),\n",
    "    \"Altura\" : pd.Series({\"Mauricio\":170,\"Rebeca\":160,\"Arturo\":169,\"Yulisa\":156})\n",
    "} \n",
    "\n",
    "df = pd.DataFrame(Personas)\n",
    "\n",
    "df"
   ]
  },
  {
   "cell_type": "code",
   "execution_count": 22,
   "id": "92e2ecba",
   "metadata": {},
   "outputs": [
    {
     "data": {
      "text/html": [
       "<div>\n",
       "<style scoped>\n",
       "    .dataframe tbody tr th:only-of-type {\n",
       "        vertical-align: middle;\n",
       "    }\n",
       "\n",
       "    .dataframe tbody tr th {\n",
       "        vertical-align: top;\n",
       "    }\n",
       "\n",
       "    .dataframe thead th {\n",
       "        text-align: right;\n",
       "    }\n",
       "</style>\n",
       "<table border=\"1\" class=\"dataframe\">\n",
       "  <thead>\n",
       "    <tr style=\"text-align: right;\">\n",
       "      <th></th>\n",
       "      <th>Peso</th>\n",
       "      <th>Altura</th>\n",
       "    </tr>\n",
       "  </thead>\n",
       "  <tbody>\n",
       "    <tr>\n",
       "      <th>Mauricio</th>\n",
       "      <td>65</td>\n",
       "      <td>170</td>\n",
       "    </tr>\n",
       "    <tr>\n",
       "      <th>Rebeca</th>\n",
       "      <td>60</td>\n",
       "      <td>160</td>\n",
       "    </tr>\n",
       "    <tr>\n",
       "      <th>Arturo</th>\n",
       "      <td>70</td>\n",
       "      <td>169</td>\n",
       "    </tr>\n",
       "    <tr>\n",
       "      <th>Yulisa</th>\n",
       "      <td>48</td>\n",
       "      <td>156</td>\n",
       "    </tr>\n",
       "  </tbody>\n",
       "</table>\n",
       "</div>"
      ],
      "text/plain": [
       "          Peso  Altura\n",
       "Mauricio    65     170\n",
       "Rebeca      60     160\n",
       "Arturo      70     169\n",
       "Yulisa      48     156"
      ]
     },
     "execution_count": 22,
     "metadata": {},
     "output_type": "execute_result"
    }
   ],
   "source": [
    "\n",
    "Personas = {\n",
    "    \"Peso\":{\"Mauricio\":65,\"Rebeca\":60,\"Arturo\":70,\"Yulisa\":48},\n",
    "    \"Altura\":{\"Mauricio\":170,\"Rebeca\":160,\"Arturo\":169,\"Yulisa\":156}\n",
    "} \n",
    "\n",
    "df = pd.DataFrame(Personas)\n",
    "\n",
    "df\n"
   ]
  },
  {
   "cell_type": "markdown",
   "id": "4b140156",
   "metadata": {},
   "source": [
    "### Acceso a los elementos de un DataFrame"
   ]
  },
  {
   "cell_type": "code",
   "execution_count": 23,
   "id": "46a26f45",
   "metadata": {},
   "outputs": [
    {
     "data": {
      "text/html": [
       "<div>\n",
       "<style scoped>\n",
       "    .dataframe tbody tr th:only-of-type {\n",
       "        vertical-align: middle;\n",
       "    }\n",
       "\n",
       "    .dataframe tbody tr th {\n",
       "        vertical-align: top;\n",
       "    }\n",
       "\n",
       "    .dataframe thead th {\n",
       "        text-align: right;\n",
       "    }\n",
       "</style>\n",
       "<table border=\"1\" class=\"dataframe\">\n",
       "  <thead>\n",
       "    <tr style=\"text-align: right;\">\n",
       "      <th></th>\n",
       "      <th>Peso</th>\n",
       "      <th>Altura</th>\n",
       "      <th>Hijos</th>\n",
       "    </tr>\n",
       "  </thead>\n",
       "  <tbody>\n",
       "    <tr>\n",
       "      <th>Arturo</th>\n",
       "      <td>70</td>\n",
       "      <td>169</td>\n",
       "      <td>NaN</td>\n",
       "    </tr>\n",
       "    <tr>\n",
       "      <th>Mauricio</th>\n",
       "      <td>65</td>\n",
       "      <td>170</td>\n",
       "      <td>NaN</td>\n",
       "    </tr>\n",
       "    <tr>\n",
       "      <th>Rebeca</th>\n",
       "      <td>60</td>\n",
       "      <td>160</td>\n",
       "      <td>2.0</td>\n",
       "    </tr>\n",
       "    <tr>\n",
       "      <th>Yulisa</th>\n",
       "      <td>48</td>\n",
       "      <td>156</td>\n",
       "      <td>3.0</td>\n",
       "    </tr>\n",
       "  </tbody>\n",
       "</table>\n",
       "</div>"
      ],
      "text/plain": [
       "          Peso  Altura  Hijos\n",
       "Arturo      70     169    NaN\n",
       "Mauricio    65     170    NaN\n",
       "Rebeca      60     160    2.0\n",
       "Yulisa      48     156    3.0"
      ]
     },
     "execution_count": 23,
     "metadata": {},
     "output_type": "execute_result"
    }
   ],
   "source": [
    "# Crear un DataFrame e inicializarlo con un diccionario de Objetos Series\n",
    "\n",
    "Personas = {\n",
    "    \"Peso\": pd.Series([65,60,70,48,],[\"Mauricio\",\"Rebeca\",\"Arturo\",\"Yulisa\"]),\n",
    "    \"Altura\" : pd.Series({\"Mauricio\":170,\"Rebeca\":160,\"Arturo\":169,\"Yulisa\":156}),\n",
    "    \"Hijos\" : pd.Series([2,3],[\"Rebeca\",\"Yulisa\"])\n",
    "} \n",
    "\n",
    "df = pd.DataFrame(Personas)\n",
    "\n",
    "df"
   ]
  },
  {
   "cell_type": "markdown",
   "id": "22711e62",
   "metadata": {},
   "source": [
    "#### Accediendo a los elementos de las columnas del DataFrame"
   ]
  },
  {
   "cell_type": "code",
   "execution_count": 24,
   "id": "b5467a78",
   "metadata": {},
   "outputs": [
    {
     "data": {
      "text/plain": [
       "Arturo      70\n",
       "Mauricio    65\n",
       "Rebeca      60\n",
       "Yulisa      48\n",
       "Name: Peso, dtype: int64"
      ]
     },
     "execution_count": 24,
     "metadata": {},
     "output_type": "execute_result"
    }
   ],
   "source": [
    "df[\"Peso\"]"
   ]
  },
  {
   "cell_type": "code",
   "execution_count": 25,
   "id": "4c7988a5",
   "metadata": {},
   "outputs": [
    {
     "data": {
      "text/html": [
       "<div>\n",
       "<style scoped>\n",
       "    .dataframe tbody tr th:only-of-type {\n",
       "        vertical-align: middle;\n",
       "    }\n",
       "\n",
       "    .dataframe tbody tr th {\n",
       "        vertical-align: top;\n",
       "    }\n",
       "\n",
       "    .dataframe thead th {\n",
       "        text-align: right;\n",
       "    }\n",
       "</style>\n",
       "<table border=\"1\" class=\"dataframe\">\n",
       "  <thead>\n",
       "    <tr style=\"text-align: right;\">\n",
       "      <th></th>\n",
       "      <th>Peso</th>\n",
       "      <th>Altura</th>\n",
       "    </tr>\n",
       "  </thead>\n",
       "  <tbody>\n",
       "    <tr>\n",
       "      <th>Arturo</th>\n",
       "      <td>70</td>\n",
       "      <td>169</td>\n",
       "    </tr>\n",
       "    <tr>\n",
       "      <th>Mauricio</th>\n",
       "      <td>65</td>\n",
       "      <td>170</td>\n",
       "    </tr>\n",
       "    <tr>\n",
       "      <th>Rebeca</th>\n",
       "      <td>60</td>\n",
       "      <td>160</td>\n",
       "    </tr>\n",
       "    <tr>\n",
       "      <th>Yulisa</th>\n",
       "      <td>48</td>\n",
       "      <td>156</td>\n",
       "    </tr>\n",
       "  </tbody>\n",
       "</table>\n",
       "</div>"
      ],
      "text/plain": [
       "          Peso  Altura\n",
       "Arturo      70     169\n",
       "Mauricio    65     170\n",
       "Rebeca      60     160\n",
       "Yulisa      48     156"
      ]
     },
     "execution_count": 25,
     "metadata": {},
     "output_type": "execute_result"
    }
   ],
   "source": [
    "df[['Peso','Altura']]"
   ]
  },
  {
   "cell_type": "code",
   "execution_count": 26,
   "id": "6311f33f",
   "metadata": {},
   "outputs": [
    {
     "data": {
      "text/plain": [
       "Arturo       True\n",
       "Mauricio    False\n",
       "Rebeca      False\n",
       "Yulisa      False\n",
       "Name: Peso, dtype: bool"
      ]
     },
     "execution_count": 26,
     "metadata": {},
     "output_type": "execute_result"
    }
   ],
   "source": [
    "#Pueden combinarse los elementos anteriores con expresiones booleanas\n",
    "\n",
    "df[\"Peso\"] > 65"
   ]
  },
  {
   "cell_type": "code",
   "execution_count": 27,
   "id": "0c6ceccf",
   "metadata": {},
   "outputs": [
    {
     "data": {
      "text/html": [
       "<div>\n",
       "<style scoped>\n",
       "    .dataframe tbody tr th:only-of-type {\n",
       "        vertical-align: middle;\n",
       "    }\n",
       "\n",
       "    .dataframe tbody tr th {\n",
       "        vertical-align: top;\n",
       "    }\n",
       "\n",
       "    .dataframe thead th {\n",
       "        text-align: right;\n",
       "    }\n",
       "</style>\n",
       "<table border=\"1\" class=\"dataframe\">\n",
       "  <thead>\n",
       "    <tr style=\"text-align: right;\">\n",
       "      <th></th>\n",
       "      <th>Peso</th>\n",
       "      <th>Altura</th>\n",
       "      <th>Hijos</th>\n",
       "    </tr>\n",
       "  </thead>\n",
       "  <tbody>\n",
       "    <tr>\n",
       "      <th>Arturo</th>\n",
       "      <td>70</td>\n",
       "      <td>169</td>\n",
       "      <td>NaN</td>\n",
       "    </tr>\n",
       "    <tr>\n",
       "      <th>Mauricio</th>\n",
       "      <td>65</td>\n",
       "      <td>170</td>\n",
       "      <td>NaN</td>\n",
       "    </tr>\n",
       "  </tbody>\n",
       "</table>\n",
       "</div>"
      ],
      "text/plain": [
       "          Peso  Altura  Hijos\n",
       "Arturo      70     169    NaN\n",
       "Mauricio    65     170    NaN"
      ]
     },
     "execution_count": 27,
     "metadata": {},
     "output_type": "execute_result"
    }
   ],
   "source": [
    "#Pueden combinarse los metodos con expresiones booleanas\n",
    "\n",
    "df[df[\"Peso\"] >= 65 ]"
   ]
  },
  {
   "cell_type": "markdown",
   "id": "274379d7",
   "metadata": {},
   "source": [
    "#### Acceso a los elementos de las filas del DataFrame"
   ]
  },
  {
   "cell_type": "code",
   "execution_count": 28,
   "id": "e8f0f587",
   "metadata": {},
   "outputs": [
    {
     "data": {
      "text/html": [
       "<div>\n",
       "<style scoped>\n",
       "    .dataframe tbody tr th:only-of-type {\n",
       "        vertical-align: middle;\n",
       "    }\n",
       "\n",
       "    .dataframe tbody tr th {\n",
       "        vertical-align: top;\n",
       "    }\n",
       "\n",
       "    .dataframe thead th {\n",
       "        text-align: right;\n",
       "    }\n",
       "</style>\n",
       "<table border=\"1\" class=\"dataframe\">\n",
       "  <thead>\n",
       "    <tr style=\"text-align: right;\">\n",
       "      <th></th>\n",
       "      <th>Peso</th>\n",
       "      <th>Altura</th>\n",
       "      <th>Hijos</th>\n",
       "    </tr>\n",
       "  </thead>\n",
       "  <tbody>\n",
       "    <tr>\n",
       "      <th>Arturo</th>\n",
       "      <td>70</td>\n",
       "      <td>169</td>\n",
       "      <td>NaN</td>\n",
       "    </tr>\n",
       "    <tr>\n",
       "      <th>Mauricio</th>\n",
       "      <td>65</td>\n",
       "      <td>170</td>\n",
       "      <td>NaN</td>\n",
       "    </tr>\n",
       "    <tr>\n",
       "      <th>Rebeca</th>\n",
       "      <td>60</td>\n",
       "      <td>160</td>\n",
       "      <td>2.0</td>\n",
       "    </tr>\n",
       "    <tr>\n",
       "      <th>Yulisa</th>\n",
       "      <td>48</td>\n",
       "      <td>156</td>\n",
       "      <td>3.0</td>\n",
       "    </tr>\n",
       "  </tbody>\n",
       "</table>\n",
       "</div>"
      ],
      "text/plain": [
       "          Peso  Altura  Hijos\n",
       "Arturo      70     169    NaN\n",
       "Mauricio    65     170    NaN\n",
       "Rebeca      60     160    2.0\n",
       "Yulisa      48     156    3.0"
      ]
     },
     "execution_count": 28,
     "metadata": {},
     "output_type": "execute_result"
    }
   ],
   "source": [
    "#Mostrar el DataFrame \n",
    "\n",
    "df = pd.DataFrame(Personas)\n",
    "df"
   ]
  },
  {
   "cell_type": "code",
   "execution_count": 29,
   "id": "71725b38",
   "metadata": {},
   "outputs": [
    {
     "data": {
      "text/plain": [
       "Peso       48.0\n",
       "Altura    156.0\n",
       "Hijos       3.0\n",
       "Name: Yulisa, dtype: float64"
      ]
     },
     "execution_count": 29,
     "metadata": {},
     "output_type": "execute_result"
    }
   ],
   "source": [
    "df.loc[\"Yulisa\"]"
   ]
  },
  {
   "cell_type": "code",
   "execution_count": 30,
   "id": "a41a9c6a",
   "metadata": {},
   "outputs": [
    {
     "data": {
      "text/plain": [
       "Peso       48.0\n",
       "Altura    156.0\n",
       "Hijos       3.0\n",
       "Name: Yulisa, dtype: float64"
      ]
     },
     "execution_count": 30,
     "metadata": {},
     "output_type": "execute_result"
    }
   ],
   "source": [
    "df.iloc[3]"
   ]
  },
  {
   "cell_type": "code",
   "execution_count": 31,
   "id": "badf80f7",
   "metadata": {},
   "outputs": [
    {
     "data": {
      "text/html": [
       "<div>\n",
       "<style scoped>\n",
       "    .dataframe tbody tr th:only-of-type {\n",
       "        vertical-align: middle;\n",
       "    }\n",
       "\n",
       "    .dataframe tbody tr th {\n",
       "        vertical-align: top;\n",
       "    }\n",
       "\n",
       "    .dataframe thead th {\n",
       "        text-align: right;\n",
       "    }\n",
       "</style>\n",
       "<table border=\"1\" class=\"dataframe\">\n",
       "  <thead>\n",
       "    <tr style=\"text-align: right;\">\n",
       "      <th></th>\n",
       "      <th>Peso</th>\n",
       "      <th>Altura</th>\n",
       "      <th>Hijos</th>\n",
       "    </tr>\n",
       "  </thead>\n",
       "  <tbody>\n",
       "    <tr>\n",
       "      <th>Mauricio</th>\n",
       "      <td>65</td>\n",
       "      <td>170</td>\n",
       "      <td>NaN</td>\n",
       "    </tr>\n",
       "    <tr>\n",
       "      <th>Rebeca</th>\n",
       "      <td>60</td>\n",
       "      <td>160</td>\n",
       "      <td>2.0</td>\n",
       "    </tr>\n",
       "  </tbody>\n",
       "</table>\n",
       "</div>"
      ],
      "text/plain": [
       "          Peso  Altura  Hijos\n",
       "Mauricio    65     170    NaN\n",
       "Rebeca      60     160    2.0"
      ]
     },
     "execution_count": 31,
     "metadata": {},
     "output_type": "execute_result"
    }
   ],
   "source": [
    "df.iloc[1:3]"
   ]
  },
  {
   "cell_type": "markdown",
   "id": "2525e1b5",
   "metadata": {},
   "source": [
    "#### Consulta avanzada de los elementos de un DataFrame"
   ]
  },
  {
   "cell_type": "code",
   "execution_count": 32,
   "id": "7a48eb7c",
   "metadata": {},
   "outputs": [
    {
     "data": {
      "text/html": [
       "<div>\n",
       "<style scoped>\n",
       "    .dataframe tbody tr th:only-of-type {\n",
       "        vertical-align: middle;\n",
       "    }\n",
       "\n",
       "    .dataframe tbody tr th {\n",
       "        vertical-align: top;\n",
       "    }\n",
       "\n",
       "    .dataframe thead th {\n",
       "        text-align: right;\n",
       "    }\n",
       "</style>\n",
       "<table border=\"1\" class=\"dataframe\">\n",
       "  <thead>\n",
       "    <tr style=\"text-align: right;\">\n",
       "      <th></th>\n",
       "      <th>Peso</th>\n",
       "      <th>Altura</th>\n",
       "      <th>Hijos</th>\n",
       "    </tr>\n",
       "  </thead>\n",
       "  <tbody>\n",
       "    <tr>\n",
       "      <th>Arturo</th>\n",
       "      <td>70</td>\n",
       "      <td>169</td>\n",
       "      <td>NaN</td>\n",
       "    </tr>\n",
       "    <tr>\n",
       "      <th>Mauricio</th>\n",
       "      <td>65</td>\n",
       "      <td>170</td>\n",
       "      <td>NaN</td>\n",
       "    </tr>\n",
       "    <tr>\n",
       "      <th>Rebeca</th>\n",
       "      <td>60</td>\n",
       "      <td>160</td>\n",
       "      <td>2.0</td>\n",
       "    </tr>\n",
       "    <tr>\n",
       "      <th>Yulisa</th>\n",
       "      <td>48</td>\n",
       "      <td>156</td>\n",
       "      <td>3.0</td>\n",
       "    </tr>\n",
       "  </tbody>\n",
       "</table>\n",
       "</div>"
      ],
      "text/plain": [
       "          Peso  Altura  Hijos\n",
       "Arturo      70     169    NaN\n",
       "Mauricio    65     170    NaN\n",
       "Rebeca      60     160    2.0\n",
       "Yulisa      48     156    3.0"
      ]
     },
     "execution_count": 32,
     "metadata": {},
     "output_type": "execute_result"
    }
   ],
   "source": [
    "#Mostrar el DataFrame\n",
    "\n",
    "df"
   ]
  },
  {
   "cell_type": "code",
   "execution_count": 33,
   "id": "93a836e8",
   "metadata": {},
   "outputs": [
    {
     "data": {
      "text/html": [
       "<div>\n",
       "<style scoped>\n",
       "    .dataframe tbody tr th:only-of-type {\n",
       "        vertical-align: middle;\n",
       "    }\n",
       "\n",
       "    .dataframe tbody tr th {\n",
       "        vertical-align: top;\n",
       "    }\n",
       "\n",
       "    .dataframe thead th {\n",
       "        text-align: right;\n",
       "    }\n",
       "</style>\n",
       "<table border=\"1\" class=\"dataframe\">\n",
       "  <thead>\n",
       "    <tr style=\"text-align: right;\">\n",
       "      <th></th>\n",
       "      <th>Peso</th>\n",
       "      <th>Altura</th>\n",
       "      <th>Hijos</th>\n",
       "    </tr>\n",
       "  </thead>\n",
       "  <tbody>\n",
       "    <tr>\n",
       "      <th>Arturo</th>\n",
       "      <td>70</td>\n",
       "      <td>169</td>\n",
       "      <td>NaN</td>\n",
       "    </tr>\n",
       "    <tr>\n",
       "      <th>Mauricio</th>\n",
       "      <td>65</td>\n",
       "      <td>170</td>\n",
       "      <td>NaN</td>\n",
       "    </tr>\n",
       "  </tbody>\n",
       "</table>\n",
       "</div>"
      ],
      "text/plain": [
       "          Peso  Altura  Hijos\n",
       "Arturo      70     169    NaN\n",
       "Mauricio    65     170    NaN"
      ]
     },
     "execution_count": 33,
     "metadata": {},
     "output_type": "execute_result"
    }
   ],
   "source": [
    "#Consulta con query \n",
    "df.query(\"Altura >= 165 and Peso > 40\")"
   ]
  },
  {
   "cell_type": "markdown",
   "id": "fba83b7a",
   "metadata": {},
   "source": [
    "#### Copiar un DataFrame\n"
   ]
  },
  {
   "cell_type": "code",
   "execution_count": 34,
   "id": "b8d6773a",
   "metadata": {},
   "outputs": [
    {
     "data": {
      "text/html": [
       "<div>\n",
       "<style scoped>\n",
       "    .dataframe tbody tr th:only-of-type {\n",
       "        vertical-align: middle;\n",
       "    }\n",
       "\n",
       "    .dataframe tbody tr th {\n",
       "        vertical-align: top;\n",
       "    }\n",
       "\n",
       "    .dataframe thead th {\n",
       "        text-align: right;\n",
       "    }\n",
       "</style>\n",
       "<table border=\"1\" class=\"dataframe\">\n",
       "  <thead>\n",
       "    <tr style=\"text-align: right;\">\n",
       "      <th></th>\n",
       "      <th>Peso</th>\n",
       "      <th>Altura</th>\n",
       "      <th>Hijos</th>\n",
       "    </tr>\n",
       "  </thead>\n",
       "  <tbody>\n",
       "    <tr>\n",
       "      <th>Arturo</th>\n",
       "      <td>70</td>\n",
       "      <td>169</td>\n",
       "      <td>NaN</td>\n",
       "    </tr>\n",
       "    <tr>\n",
       "      <th>Mauricio</th>\n",
       "      <td>65</td>\n",
       "      <td>170</td>\n",
       "      <td>NaN</td>\n",
       "    </tr>\n",
       "    <tr>\n",
       "      <th>Rebeca</th>\n",
       "      <td>60</td>\n",
       "      <td>160</td>\n",
       "      <td>2.0</td>\n",
       "    </tr>\n",
       "    <tr>\n",
       "      <th>Yulisa</th>\n",
       "      <td>48</td>\n",
       "      <td>156</td>\n",
       "      <td>3.0</td>\n",
       "    </tr>\n",
       "  </tbody>\n",
       "</table>\n",
       "</div>"
      ],
      "text/plain": [
       "          Peso  Altura  Hijos\n",
       "Arturo      70     169    NaN\n",
       "Mauricio    65     170    NaN\n",
       "Rebeca      60     160    2.0\n",
       "Yulisa      48     156    3.0"
      ]
     },
     "execution_count": 34,
     "metadata": {},
     "output_type": "execute_result"
    }
   ],
   "source": [
    "# Crear un DataFrame e inicializarlo con un diccionario de objetos Series\n",
    "Personas = {\n",
    "    \"Peso\": pd.Series([65,60,70,48,],[\"Mauricio\",\"Rebeca\",\"Arturo\",\"Yulisa\"]),\n",
    "    \"Altura\" : pd.Series({\"Mauricio\":170,\"Rebeca\":160,\"Arturo\":169,\"Yulisa\":156}),\n",
    "    \"Hijos\" : pd.Series([2,3],[\"Rebeca\",\"Yulisa\"])\n",
    "} \n",
    "\n",
    "df = pd.DataFrame(Personas)\n",
    "df"
   ]
  },
  {
   "cell_type": "code",
   "execution_count": 35,
   "id": "6739e8b8",
   "metadata": {},
   "outputs": [],
   "source": [
    "#Copiar el DataFrame df en df_copy \n",
    "# Nota Al modificar un elemento del df_copy no se modifica df\n",
    "\n",
    "df_copy = df.copy()"
   ]
  },
  {
   "cell_type": "markdown",
   "id": "f875d57e",
   "metadata": {},
   "source": [
    "#### Modificar un DataFrame "
   ]
  },
  {
   "cell_type": "code",
   "execution_count": 36,
   "id": "73447a89",
   "metadata": {},
   "outputs": [
    {
     "data": {
      "text/html": [
       "<div>\n",
       "<style scoped>\n",
       "    .dataframe tbody tr th:only-of-type {\n",
       "        vertical-align: middle;\n",
       "    }\n",
       "\n",
       "    .dataframe tbody tr th {\n",
       "        vertical-align: top;\n",
       "    }\n",
       "\n",
       "    .dataframe thead th {\n",
       "        text-align: right;\n",
       "    }\n",
       "</style>\n",
       "<table border=\"1\" class=\"dataframe\">\n",
       "  <thead>\n",
       "    <tr style=\"text-align: right;\">\n",
       "      <th></th>\n",
       "      <th>Peso</th>\n",
       "      <th>Altura</th>\n",
       "      <th>Hijos</th>\n",
       "    </tr>\n",
       "  </thead>\n",
       "  <tbody>\n",
       "    <tr>\n",
       "      <th>Arturo</th>\n",
       "      <td>70</td>\n",
       "      <td>169</td>\n",
       "      <td>NaN</td>\n",
       "    </tr>\n",
       "    <tr>\n",
       "      <th>Mauricio</th>\n",
       "      <td>65</td>\n",
       "      <td>170</td>\n",
       "      <td>NaN</td>\n",
       "    </tr>\n",
       "    <tr>\n",
       "      <th>Rebeca</th>\n",
       "      <td>60</td>\n",
       "      <td>160</td>\n",
       "      <td>2.0</td>\n",
       "    </tr>\n",
       "    <tr>\n",
       "      <th>Yulisa</th>\n",
       "      <td>48</td>\n",
       "      <td>156</td>\n",
       "      <td>3.0</td>\n",
       "    </tr>\n",
       "  </tbody>\n",
       "</table>\n",
       "</div>"
      ],
      "text/plain": [
       "          Peso  Altura  Hijos\n",
       "Arturo      70     169    NaN\n",
       "Mauricio    65     170    NaN\n",
       "Rebeca      60     160    2.0\n",
       "Yulisa      48     156    3.0"
      ]
     },
     "execution_count": 36,
     "metadata": {},
     "output_type": "execute_result"
    }
   ],
   "source": [
    "Personas = {\n",
    "    \"Peso\": pd.Series([65,60,70,48,],[\"Mauricio\",\"Rebeca\",\"Arturo\",\"Yulisa\"]),\n",
    "    \"Altura\" : pd.Series({\"Mauricio\":170,\"Rebeca\":160,\"Arturo\":169,\"Yulisa\":156}),\n",
    "    \"Hijos\" : pd.Series([2,3],[\"Rebeca\",\"Yulisa\"])\n",
    "} \n",
    "df = pd.DataFrame(Personas)\n",
    "df\n",
    "\n"
   ]
  },
  {
   "cell_type": "code",
   "execution_count": 37,
   "id": "39ade6ae",
   "metadata": {},
   "outputs": [
    {
     "data": {
      "text/html": [
       "<div>\n",
       "<style scoped>\n",
       "    .dataframe tbody tr th:only-of-type {\n",
       "        vertical-align: middle;\n",
       "    }\n",
       "\n",
       "    .dataframe tbody tr th {\n",
       "        vertical-align: top;\n",
       "    }\n",
       "\n",
       "    .dataframe thead th {\n",
       "        text-align: right;\n",
       "    }\n",
       "</style>\n",
       "<table border=\"1\" class=\"dataframe\">\n",
       "  <thead>\n",
       "    <tr style=\"text-align: right;\">\n",
       "      <th></th>\n",
       "      <th>Peso</th>\n",
       "      <th>Altura</th>\n",
       "      <th>Hijos</th>\n",
       "      <th>Año</th>\n",
       "    </tr>\n",
       "  </thead>\n",
       "  <tbody>\n",
       "    <tr>\n",
       "      <th>Arturo</th>\n",
       "      <td>70</td>\n",
       "      <td>169</td>\n",
       "      <td>NaN</td>\n",
       "      <td>2005</td>\n",
       "    </tr>\n",
       "    <tr>\n",
       "      <th>Mauricio</th>\n",
       "      <td>65</td>\n",
       "      <td>170</td>\n",
       "      <td>NaN</td>\n",
       "      <td>2005</td>\n",
       "    </tr>\n",
       "    <tr>\n",
       "      <th>Rebeca</th>\n",
       "      <td>60</td>\n",
       "      <td>160</td>\n",
       "      <td>2.0</td>\n",
       "      <td>2005</td>\n",
       "    </tr>\n",
       "    <tr>\n",
       "      <th>Yulisa</th>\n",
       "      <td>48</td>\n",
       "      <td>156</td>\n",
       "      <td>3.0</td>\n",
       "      <td>2006</td>\n",
       "    </tr>\n",
       "  </tbody>\n",
       "</table>\n",
       "</div>"
      ],
      "text/plain": [
       "          Peso  Altura  Hijos   Año\n",
       "Arturo      70     169    NaN  2005\n",
       "Mauricio    65     170    NaN  2005\n",
       "Rebeca      60     160    2.0  2005\n",
       "Yulisa      48     156    3.0  2006"
      ]
     },
     "execution_count": 37,
     "metadata": {},
     "output_type": "execute_result"
    }
   ],
   "source": [
    "#Añadir una nueva coluna la DataFrame\n",
    "df['Año']=[ 2005,2005,2005,2006]\n",
    "df"
   ]
  },
  {
   "cell_type": "code",
   "execution_count": 38,
   "id": "777a62d2",
   "metadata": {},
   "outputs": [
    {
     "data": {
      "text/html": [
       "<div>\n",
       "<style scoped>\n",
       "    .dataframe tbody tr th:only-of-type {\n",
       "        vertical-align: middle;\n",
       "    }\n",
       "\n",
       "    .dataframe tbody tr th {\n",
       "        vertical-align: top;\n",
       "    }\n",
       "\n",
       "    .dataframe thead th {\n",
       "        text-align: right;\n",
       "    }\n",
       "</style>\n",
       "<table border=\"1\" class=\"dataframe\">\n",
       "  <thead>\n",
       "    <tr style=\"text-align: right;\">\n",
       "      <th></th>\n",
       "      <th>Peso</th>\n",
       "      <th>Altura</th>\n",
       "      <th>Hijos</th>\n",
       "      <th>Año</th>\n",
       "      <th>Edad</th>\n",
       "    </tr>\n",
       "  </thead>\n",
       "  <tbody>\n",
       "    <tr>\n",
       "      <th>Arturo</th>\n",
       "      <td>70</td>\n",
       "      <td>169</td>\n",
       "      <td>NaN</td>\n",
       "      <td>2005</td>\n",
       "      <td>20</td>\n",
       "    </tr>\n",
       "    <tr>\n",
       "      <th>Mauricio</th>\n",
       "      <td>65</td>\n",
       "      <td>170</td>\n",
       "      <td>NaN</td>\n",
       "      <td>2005</td>\n",
       "      <td>20</td>\n",
       "    </tr>\n",
       "    <tr>\n",
       "      <th>Rebeca</th>\n",
       "      <td>60</td>\n",
       "      <td>160</td>\n",
       "      <td>2.0</td>\n",
       "      <td>2005</td>\n",
       "      <td>20</td>\n",
       "    </tr>\n",
       "    <tr>\n",
       "      <th>Yulisa</th>\n",
       "      <td>48</td>\n",
       "      <td>156</td>\n",
       "      <td>3.0</td>\n",
       "      <td>2006</td>\n",
       "      <td>19</td>\n",
       "    </tr>\n",
       "  </tbody>\n",
       "</table>\n",
       "</div>"
      ],
      "text/plain": [
       "          Peso  Altura  Hijos   Año  Edad\n",
       "Arturo      70     169    NaN  2005    20\n",
       "Mauricio    65     170    NaN  2005    20\n",
       "Rebeca      60     160    2.0  2005    20\n",
       "Yulisa      48     156    3.0  2006    19"
      ]
     },
     "execution_count": 38,
     "metadata": {},
     "output_type": "execute_result"
    }
   ],
   "source": [
    "\n",
    "#Agregar nueva columna calculada al DataFrame\n",
    "\n",
    "df[\"Edad\"] = 2025 - df[\"Año\"]\n",
    "df"
   ]
  },
  {
   "cell_type": "code",
   "execution_count": 39,
   "id": "7d4bfb0a",
   "metadata": {},
   "outputs": [
    {
     "data": {
      "text/html": [
       "<div>\n",
       "<style scoped>\n",
       "    .dataframe tbody tr th:only-of-type {\n",
       "        vertical-align: middle;\n",
       "    }\n",
       "\n",
       "    .dataframe tbody tr th {\n",
       "        vertical-align: top;\n",
       "    }\n",
       "\n",
       "    .dataframe thead th {\n",
       "        text-align: right;\n",
       "    }\n",
       "</style>\n",
       "<table border=\"1\" class=\"dataframe\">\n",
       "  <thead>\n",
       "    <tr style=\"text-align: right;\">\n",
       "      <th></th>\n",
       "      <th>Peso</th>\n",
       "      <th>Altura</th>\n",
       "      <th>Hijos</th>\n",
       "      <th>Año</th>\n",
       "      <th>Edad</th>\n",
       "      <th>Mascotas</th>\n",
       "    </tr>\n",
       "  </thead>\n",
       "  <tbody>\n",
       "    <tr>\n",
       "      <th>Arturo</th>\n",
       "      <td>70</td>\n",
       "      <td>169</td>\n",
       "      <td>NaN</td>\n",
       "      <td>2005</td>\n",
       "      <td>20</td>\n",
       "      <td>4</td>\n",
       "    </tr>\n",
       "    <tr>\n",
       "      <th>Mauricio</th>\n",
       "      <td>65</td>\n",
       "      <td>170</td>\n",
       "      <td>NaN</td>\n",
       "      <td>2005</td>\n",
       "      <td>20</td>\n",
       "      <td>1</td>\n",
       "    </tr>\n",
       "    <tr>\n",
       "      <th>Rebeca</th>\n",
       "      <td>60</td>\n",
       "      <td>160</td>\n",
       "      <td>2.0</td>\n",
       "      <td>2005</td>\n",
       "      <td>20</td>\n",
       "      <td>1</td>\n",
       "    </tr>\n",
       "    <tr>\n",
       "      <th>Yulisa</th>\n",
       "      <td>48</td>\n",
       "      <td>156</td>\n",
       "      <td>3.0</td>\n",
       "      <td>2006</td>\n",
       "      <td>19</td>\n",
       "      <td>0</td>\n",
       "    </tr>\n",
       "  </tbody>\n",
       "</table>\n",
       "</div>"
      ],
      "text/plain": [
       "          Peso  Altura  Hijos   Año  Edad  Mascotas\n",
       "Arturo      70     169    NaN  2005    20         4\n",
       "Mauricio    65     170    NaN  2005    20         1\n",
       "Rebeca      60     160    2.0  2005    20         1\n",
       "Yulisa      48     156    3.0  2006    19         0"
      ]
     },
     "execution_count": 39,
     "metadata": {},
     "output_type": "execute_result"
    }
   ],
   "source": [
    "\n",
    "# Añadir una nueva columan a creando un nuevo DataFrame\n",
    "\n",
    "df_mod = df.assign(Mascotas = [4,1,1,0])\n",
    "df_mod"
   ]
  },
  {
   "cell_type": "code",
   "execution_count": 40,
   "id": "740c6509",
   "metadata": {},
   "outputs": [
    {
     "data": {
      "text/html": [
       "<div>\n",
       "<style scoped>\n",
       "    .dataframe tbody tr th:only-of-type {\n",
       "        vertical-align: middle;\n",
       "    }\n",
       "\n",
       "    .dataframe tbody tr th {\n",
       "        vertical-align: top;\n",
       "    }\n",
       "\n",
       "    .dataframe thead th {\n",
       "        text-align: right;\n",
       "    }\n",
       "</style>\n",
       "<table border=\"1\" class=\"dataframe\">\n",
       "  <thead>\n",
       "    <tr style=\"text-align: right;\">\n",
       "      <th></th>\n",
       "      <th>Peso</th>\n",
       "      <th>Altura</th>\n",
       "      <th>Hijos</th>\n",
       "      <th>Año</th>\n",
       "      <th>Edad</th>\n",
       "    </tr>\n",
       "  </thead>\n",
       "  <tbody>\n",
       "    <tr>\n",
       "      <th>Arturo</th>\n",
       "      <td>70</td>\n",
       "      <td>169</td>\n",
       "      <td>NaN</td>\n",
       "      <td>2005</td>\n",
       "      <td>20</td>\n",
       "    </tr>\n",
       "    <tr>\n",
       "      <th>Mauricio</th>\n",
       "      <td>65</td>\n",
       "      <td>170</td>\n",
       "      <td>NaN</td>\n",
       "      <td>2005</td>\n",
       "      <td>20</td>\n",
       "    </tr>\n",
       "    <tr>\n",
       "      <th>Rebeca</th>\n",
       "      <td>60</td>\n",
       "      <td>160</td>\n",
       "      <td>2.0</td>\n",
       "      <td>2005</td>\n",
       "      <td>20</td>\n",
       "    </tr>\n",
       "    <tr>\n",
       "      <th>Yulisa</th>\n",
       "      <td>48</td>\n",
       "      <td>156</td>\n",
       "      <td>3.0</td>\n",
       "      <td>2006</td>\n",
       "      <td>19</td>\n",
       "    </tr>\n",
       "  </tbody>\n",
       "</table>\n",
       "</div>"
      ],
      "text/plain": [
       "          Peso  Altura  Hijos   Año  Edad\n",
       "Arturo      70     169    NaN  2005    20\n",
       "Mauricio    65     170    NaN  2005    20\n",
       "Rebeca      60     160    2.0  2005    20\n",
       "Yulisa      48     156    3.0  2006    19"
      ]
     },
     "execution_count": 40,
     "metadata": {},
     "output_type": "execute_result"
    }
   ],
   "source": [
    "df\n"
   ]
  },
  {
   "cell_type": "code",
   "execution_count": 41,
   "id": "1121e6b4",
   "metadata": {},
   "outputs": [
    {
     "data": {
      "text/html": [
       "<div>\n",
       "<style scoped>\n",
       "    .dataframe tbody tr th:only-of-type {\n",
       "        vertical-align: middle;\n",
       "    }\n",
       "\n",
       "    .dataframe tbody tr th {\n",
       "        vertical-align: top;\n",
       "    }\n",
       "\n",
       "    .dataframe thead th {\n",
       "        text-align: right;\n",
       "    }\n",
       "</style>\n",
       "<table border=\"1\" class=\"dataframe\">\n",
       "  <thead>\n",
       "    <tr style=\"text-align: right;\">\n",
       "      <th></th>\n",
       "      <th>Altura</th>\n",
       "      <th>Hijos</th>\n",
       "      <th>Año</th>\n",
       "      <th>Edad</th>\n",
       "    </tr>\n",
       "  </thead>\n",
       "  <tbody>\n",
       "    <tr>\n",
       "      <th>Arturo</th>\n",
       "      <td>169</td>\n",
       "      <td>NaN</td>\n",
       "      <td>2005</td>\n",
       "      <td>20</td>\n",
       "    </tr>\n",
       "    <tr>\n",
       "      <th>Mauricio</th>\n",
       "      <td>170</td>\n",
       "      <td>NaN</td>\n",
       "      <td>2005</td>\n",
       "      <td>20</td>\n",
       "    </tr>\n",
       "    <tr>\n",
       "      <th>Rebeca</th>\n",
       "      <td>160</td>\n",
       "      <td>2.0</td>\n",
       "      <td>2005</td>\n",
       "      <td>20</td>\n",
       "    </tr>\n",
       "    <tr>\n",
       "      <th>Yulisa</th>\n",
       "      <td>156</td>\n",
       "      <td>3.0</td>\n",
       "      <td>2006</td>\n",
       "      <td>19</td>\n",
       "    </tr>\n",
       "  </tbody>\n",
       "</table>\n",
       "</div>"
      ],
      "text/plain": [
       "          Altura  Hijos   Año  Edad\n",
       "Arturo       169    NaN  2005    20\n",
       "Mauricio     170    NaN  2005    20\n",
       "Rebeca       160    2.0  2005    20\n",
       "Yulisa       156    3.0  2006    19"
      ]
     },
     "execution_count": 41,
     "metadata": {},
     "output_type": "execute_result"
    }
   ],
   "source": [
    "#Eliminar una columna existente del Data Frame\n",
    "\n",
    "del df['Peso']\n",
    "df"
   ]
  },
  {
   "cell_type": "code",
   "execution_count": 42,
   "id": "4813ebd5",
   "metadata": {},
   "outputs": [
    {
     "data": {
      "text/html": [
       "<div>\n",
       "<style scoped>\n",
       "    .dataframe tbody tr th:only-of-type {\n",
       "        vertical-align: middle;\n",
       "    }\n",
       "\n",
       "    .dataframe tbody tr th {\n",
       "        vertical-align: top;\n",
       "    }\n",
       "\n",
       "    .dataframe thead th {\n",
       "        text-align: right;\n",
       "    }\n",
       "</style>\n",
       "<table border=\"1\" class=\"dataframe\">\n",
       "  <thead>\n",
       "    <tr style=\"text-align: right;\">\n",
       "      <th></th>\n",
       "      <th>Peso</th>\n",
       "      <th>Altura</th>\n",
       "      <th>Hijos</th>\n",
       "      <th>Año</th>\n",
       "      <th>Edad</th>\n",
       "      <th>Mascotas</th>\n",
       "    </tr>\n",
       "  </thead>\n",
       "  <tbody>\n",
       "    <tr>\n",
       "      <th>Arturo</th>\n",
       "      <td>70</td>\n",
       "      <td>169</td>\n",
       "      <td>NaN</td>\n",
       "      <td>2005</td>\n",
       "      <td>20</td>\n",
       "      <td>4</td>\n",
       "    </tr>\n",
       "    <tr>\n",
       "      <th>Mauricio</th>\n",
       "      <td>65</td>\n",
       "      <td>170</td>\n",
       "      <td>NaN</td>\n",
       "      <td>2005</td>\n",
       "      <td>20</td>\n",
       "      <td>1</td>\n",
       "    </tr>\n",
       "    <tr>\n",
       "      <th>Rebeca</th>\n",
       "      <td>60</td>\n",
       "      <td>160</td>\n",
       "      <td>2.0</td>\n",
       "      <td>2005</td>\n",
       "      <td>20</td>\n",
       "      <td>1</td>\n",
       "    </tr>\n",
       "    <tr>\n",
       "      <th>Yulisa</th>\n",
       "      <td>48</td>\n",
       "      <td>156</td>\n",
       "      <td>3.0</td>\n",
       "      <td>2006</td>\n",
       "      <td>19</td>\n",
       "      <td>0</td>\n",
       "    </tr>\n",
       "  </tbody>\n",
       "</table>\n",
       "</div>"
      ],
      "text/plain": [
       "          Peso  Altura  Hijos   Año  Edad  Mascotas\n",
       "Arturo      70     169    NaN  2005    20         4\n",
       "Mauricio    65     170    NaN  2005    20         1\n",
       "Rebeca      60     160    2.0  2005    20         1\n",
       "Yulisa      48     156    3.0  2006    19         0"
      ]
     },
     "execution_count": 42,
     "metadata": {},
     "output_type": "execute_result"
    }
   ],
   "source": [
    "df_mod"
   ]
  },
  {
   "cell_type": "code",
   "execution_count": 43,
   "id": "f4e48473",
   "metadata": {},
   "outputs": [
    {
     "data": {
      "text/html": [
       "<div>\n",
       "<style scoped>\n",
       "    .dataframe tbody tr th:only-of-type {\n",
       "        vertical-align: middle;\n",
       "    }\n",
       "\n",
       "    .dataframe tbody tr th {\n",
       "        vertical-align: top;\n",
       "    }\n",
       "\n",
       "    .dataframe thead th {\n",
       "        text-align: right;\n",
       "    }\n",
       "</style>\n",
       "<table border=\"1\" class=\"dataframe\">\n",
       "  <thead>\n",
       "    <tr style=\"text-align: right;\">\n",
       "      <th></th>\n",
       "      <th>Altura</th>\n",
       "      <th>Año</th>\n",
       "      <th>Edad</th>\n",
       "    </tr>\n",
       "  </thead>\n",
       "  <tbody>\n",
       "    <tr>\n",
       "      <th>Arturo</th>\n",
       "      <td>169</td>\n",
       "      <td>2005</td>\n",
       "      <td>20</td>\n",
       "    </tr>\n",
       "    <tr>\n",
       "      <th>Mauricio</th>\n",
       "      <td>170</td>\n",
       "      <td>2005</td>\n",
       "      <td>20</td>\n",
       "    </tr>\n",
       "    <tr>\n",
       "      <th>Rebeca</th>\n",
       "      <td>160</td>\n",
       "      <td>2005</td>\n",
       "      <td>20</td>\n",
       "    </tr>\n",
       "    <tr>\n",
       "      <th>Yulisa</th>\n",
       "      <td>156</td>\n",
       "      <td>2006</td>\n",
       "      <td>19</td>\n",
       "    </tr>\n",
       "  </tbody>\n",
       "</table>\n",
       "</div>"
      ],
      "text/plain": [
       "          Altura   Año  Edad\n",
       "Arturo       169  2005    20\n",
       "Mauricio     170  2005    20\n",
       "Rebeca       160  2005    20\n",
       "Yulisa       156  2006    19"
      ]
     },
     "execution_count": 43,
     "metadata": {},
     "output_type": "execute_result"
    }
   ],
   "source": [
    "#Eliminar una columna existente, devolviendo una copia del Data Frame\n",
    "\n",
    "df_mod = df.drop([\"Hijos\"],axis=1)\n",
    "df_mod"
   ]
  },
  {
   "cell_type": "code",
   "execution_count": 44,
   "id": "d6be50a6",
   "metadata": {},
   "outputs": [
    {
     "data": {
      "text/html": [
       "<div>\n",
       "<style scoped>\n",
       "    .dataframe tbody tr th:only-of-type {\n",
       "        vertical-align: middle;\n",
       "    }\n",
       "\n",
       "    .dataframe tbody tr th {\n",
       "        vertical-align: top;\n",
       "    }\n",
       "\n",
       "    .dataframe thead th {\n",
       "        text-align: right;\n",
       "    }\n",
       "</style>\n",
       "<table border=\"1\" class=\"dataframe\">\n",
       "  <thead>\n",
       "    <tr style=\"text-align: right;\">\n",
       "      <th></th>\n",
       "      <th>Altura</th>\n",
       "      <th>Hijos</th>\n",
       "      <th>Año</th>\n",
       "      <th>Edad</th>\n",
       "    </tr>\n",
       "  </thead>\n",
       "  <tbody>\n",
       "    <tr>\n",
       "      <th>Arturo</th>\n",
       "      <td>169</td>\n",
       "      <td>NaN</td>\n",
       "      <td>2005</td>\n",
       "      <td>20</td>\n",
       "    </tr>\n",
       "    <tr>\n",
       "      <th>Mauricio</th>\n",
       "      <td>170</td>\n",
       "      <td>NaN</td>\n",
       "      <td>2005</td>\n",
       "      <td>20</td>\n",
       "    </tr>\n",
       "    <tr>\n",
       "      <th>Rebeca</th>\n",
       "      <td>160</td>\n",
       "      <td>2.0</td>\n",
       "      <td>2005</td>\n",
       "      <td>20</td>\n",
       "    </tr>\n",
       "    <tr>\n",
       "      <th>Yulisa</th>\n",
       "      <td>156</td>\n",
       "      <td>3.0</td>\n",
       "      <td>2006</td>\n",
       "      <td>19</td>\n",
       "    </tr>\n",
       "  </tbody>\n",
       "</table>\n",
       "</div>"
      ],
      "text/plain": [
       "          Altura  Hijos   Año  Edad\n",
       "Arturo       169    NaN  2005    20\n",
       "Mauricio     170    NaN  2005    20\n",
       "Rebeca       160    2.0  2005    20\n",
       "Yulisa       156    3.0  2006    19"
      ]
     },
     "execution_count": 44,
     "metadata": {},
     "output_type": "execute_result"
    }
   ],
   "source": [
    "df"
   ]
  },
  {
   "cell_type": "markdown",
   "id": "c24cb342",
   "metadata": {},
   "source": [
    "### Evalucion de espresiones sobre un DataFRame"
   ]
  },
  {
   "cell_type": "code",
   "execution_count": 45,
   "id": "48854328",
   "metadata": {},
   "outputs": [
    {
     "data": {
      "text/html": [
       "<div>\n",
       "<style scoped>\n",
       "    .dataframe tbody tr th:only-of-type {\n",
       "        vertical-align: middle;\n",
       "    }\n",
       "\n",
       "    .dataframe tbody tr th {\n",
       "        vertical-align: top;\n",
       "    }\n",
       "\n",
       "    .dataframe thead th {\n",
       "        text-align: right;\n",
       "    }\n",
       "</style>\n",
       "<table border=\"1\" class=\"dataframe\">\n",
       "  <thead>\n",
       "    <tr style=\"text-align: right;\">\n",
       "      <th></th>\n",
       "      <th>Peso</th>\n",
       "      <th>Altura</th>\n",
       "      <th>Hijos</th>\n",
       "    </tr>\n",
       "  </thead>\n",
       "  <tbody>\n",
       "    <tr>\n",
       "      <th>Arturo</th>\n",
       "      <td>70</td>\n",
       "      <td>169</td>\n",
       "      <td>NaN</td>\n",
       "    </tr>\n",
       "    <tr>\n",
       "      <th>Mauricio</th>\n",
       "      <td>65</td>\n",
       "      <td>170</td>\n",
       "      <td>NaN</td>\n",
       "    </tr>\n",
       "    <tr>\n",
       "      <th>Rebeca</th>\n",
       "      <td>60</td>\n",
       "      <td>160</td>\n",
       "      <td>2.0</td>\n",
       "    </tr>\n",
       "    <tr>\n",
       "      <th>Yulisa</th>\n",
       "      <td>48</td>\n",
       "      <td>156</td>\n",
       "      <td>3.0</td>\n",
       "    </tr>\n",
       "  </tbody>\n",
       "</table>\n",
       "</div>"
      ],
      "text/plain": [
       "          Peso  Altura  Hijos\n",
       "Arturo      70     169    NaN\n",
       "Mauricio    65     170    NaN\n",
       "Rebeca      60     160    2.0\n",
       "Yulisa      48     156    3.0"
      ]
     },
     "execution_count": 45,
     "metadata": {},
     "output_type": "execute_result"
    }
   ],
   "source": [
    "#Crear un Data Frame e inicializarlo con un diccionario de Objetos Series\n",
    "Personas = {\n",
    "    \"Peso\": pd.Series([65,60,70,48,],[\"Mauricio\",\"Rebeca\",\"Arturo\",\"Yulisa\"]),\n",
    "    \"Altura\" : pd.Series({\"Mauricio\":170,\"Rebeca\":160,\"Arturo\":169,\"Yulisa\":156}),\n",
    "    \"Hijos\" : pd.Series([2,3],[\"Rebeca\",\"Yulisa\"])\n",
    "} \n",
    "df = pd.DataFrame(Personas)\n",
    "df\n",
    "\n"
   ]
  },
  {
   "cell_type": "code",
   "execution_count": 46,
   "id": "beb3bfa5",
   "metadata": {},
   "outputs": [
    {
     "data": {
      "text/plain": [
       "Arturo      84.5\n",
       "Mauricio    85.0\n",
       "Rebeca      80.0\n",
       "Yulisa      78.0\n",
       "Name: Altura, dtype: float64"
      ]
     },
     "execution_count": 46,
     "metadata": {},
     "output_type": "execute_result"
    }
   ],
   "source": [
    "#E  valuar una funcion sobre una columna del Data Frame\n",
    "\n",
    "df.eval(\"Altura / 2\")"
   ]
  },
  {
   "cell_type": "code",
   "execution_count": 47,
   "id": "0bf2e3fc",
   "metadata": {},
   "outputs": [
    {
     "data": {
      "text/html": [
       "<div>\n",
       "<style scoped>\n",
       "    .dataframe tbody tr th:only-of-type {\n",
       "        vertical-align: middle;\n",
       "    }\n",
       "\n",
       "    .dataframe tbody tr th {\n",
       "        vertical-align: top;\n",
       "    }\n",
       "\n",
       "    .dataframe thead th {\n",
       "        text-align: right;\n",
       "    }\n",
       "</style>\n",
       "<table border=\"1\" class=\"dataframe\">\n",
       "  <thead>\n",
       "    <tr style=\"text-align: right;\">\n",
       "      <th></th>\n",
       "      <th>Peso</th>\n",
       "      <th>Altura</th>\n",
       "      <th>Hijos</th>\n",
       "      <th>Media_Altura</th>\n",
       "    </tr>\n",
       "  </thead>\n",
       "  <tbody>\n",
       "    <tr>\n",
       "      <th>Arturo</th>\n",
       "      <td>70</td>\n",
       "      <td>169</td>\n",
       "      <td>NaN</td>\n",
       "      <td>84.5</td>\n",
       "    </tr>\n",
       "    <tr>\n",
       "      <th>Mauricio</th>\n",
       "      <td>65</td>\n",
       "      <td>170</td>\n",
       "      <td>NaN</td>\n",
       "      <td>85.0</td>\n",
       "    </tr>\n",
       "    <tr>\n",
       "      <th>Rebeca</th>\n",
       "      <td>60</td>\n",
       "      <td>160</td>\n",
       "      <td>2.0</td>\n",
       "      <td>80.0</td>\n",
       "    </tr>\n",
       "    <tr>\n",
       "      <th>Yulisa</th>\n",
       "      <td>48</td>\n",
       "      <td>156</td>\n",
       "      <td>3.0</td>\n",
       "      <td>78.0</td>\n",
       "    </tr>\n",
       "  </tbody>\n",
       "</table>\n",
       "</div>"
      ],
      "text/plain": [
       "          Peso  Altura  Hijos  Media_Altura\n",
       "Arturo      70     169    NaN          84.5\n",
       "Mauricio    65     170    NaN          85.0\n",
       "Rebeca      60     160    2.0          80.0\n",
       "Yulisa      48     156    3.0          78.0"
      ]
     },
     "execution_count": 47,
     "metadata": {},
     "output_type": "execute_result"
    }
   ],
   "source": [
    "#Asignar valor resultante como una columna nueva\n",
    "\n",
    "df.eval(\"Media_Altura = Altura / 2\",inplace=True)\n",
    "df"
   ]
  },
  {
   "cell_type": "code",
   "execution_count": 48,
   "id": "aedb9330",
   "metadata": {},
   "outputs": [
    {
     "data": {
      "text/plain": [
       "Arturo       True\n",
       "Mauricio     True\n",
       "Rebeca      False\n",
       "Yulisa      False\n",
       "Name: Altura, dtype: bool"
      ]
     },
     "execution_count": 48,
     "metadata": {},
     "output_type": "execute_result"
    }
   ],
   "source": [
    "#Evaluar una funcion utilizando una variable local\n",
    "\n",
    "max_altura = 160\n",
    "df.eval(\"Altura > @max_altura\")"
   ]
  },
  {
   "cell_type": "code",
   "execution_count": 49,
   "id": "d0006f70",
   "metadata": {},
   "outputs": [
    {
     "data": {
      "text/plain": [
       "Arturo      72\n",
       "Mauricio    67\n",
       "Rebeca      62\n",
       "Yulisa      50\n",
       "Name: Peso, dtype: int64"
      ]
     },
     "execution_count": 49,
     "metadata": {},
     "output_type": "execute_result"
    }
   ],
   "source": [
    "#Aplicar una funcion externa a una columana del Data Frame\n",
    "\n",
    "def func(x):\n",
    "    return x+2\n",
    "\n",
    "df[\"Peso\"].apply(func)\n"
   ]
  },
  {
   "cell_type": "code",
   "execution_count": 50,
   "id": "13c3b21c",
   "metadata": {},
   "outputs": [
    {
     "data": {
      "text/html": [
       "<div>\n",
       "<style scoped>\n",
       "    .dataframe tbody tr th:only-of-type {\n",
       "        vertical-align: middle;\n",
       "    }\n",
       "\n",
       "    .dataframe tbody tr th {\n",
       "        vertical-align: top;\n",
       "    }\n",
       "\n",
       "    .dataframe thead th {\n",
       "        text-align: right;\n",
       "    }\n",
       "</style>\n",
       "<table border=\"1\" class=\"dataframe\">\n",
       "  <thead>\n",
       "    <tr style=\"text-align: right;\">\n",
       "      <th></th>\n",
       "      <th>Peso</th>\n",
       "      <th>Altura</th>\n",
       "      <th>Hijos</th>\n",
       "      <th>Media_Altura</th>\n",
       "    </tr>\n",
       "  </thead>\n",
       "  <tbody>\n",
       "    <tr>\n",
       "      <th>Arturo</th>\n",
       "      <td>70</td>\n",
       "      <td>169</td>\n",
       "      <td>NaN</td>\n",
       "      <td>84.5</td>\n",
       "    </tr>\n",
       "    <tr>\n",
       "      <th>Mauricio</th>\n",
       "      <td>65</td>\n",
       "      <td>170</td>\n",
       "      <td>NaN</td>\n",
       "      <td>85.0</td>\n",
       "    </tr>\n",
       "    <tr>\n",
       "      <th>Rebeca</th>\n",
       "      <td>60</td>\n",
       "      <td>160</td>\n",
       "      <td>2.0</td>\n",
       "      <td>80.0</td>\n",
       "    </tr>\n",
       "    <tr>\n",
       "      <th>Yulisa</th>\n",
       "      <td>48</td>\n",
       "      <td>156</td>\n",
       "      <td>3.0</td>\n",
       "      <td>78.0</td>\n",
       "    </tr>\n",
       "  </tbody>\n",
       "</table>\n",
       "</div>"
      ],
      "text/plain": [
       "          Peso  Altura  Hijos  Media_Altura\n",
       "Arturo      70     169    NaN          84.5\n",
       "Mauricio    65     170    NaN          85.0\n",
       "Rebeca      60     160    2.0          80.0\n",
       "Yulisa      48     156    3.0          78.0"
      ]
     },
     "execution_count": 50,
     "metadata": {},
     "output_type": "execute_result"
    }
   ],
   "source": [
    "df"
   ]
  },
  {
   "cell_type": "markdown",
   "id": "1fa7dc2a",
   "metadata": {},
   "source": [
    "### Guardar y Cargar el DataFrame"
   ]
  },
  {
   "cell_type": "code",
   "execution_count": 51,
   "id": "a1234481",
   "metadata": {},
   "outputs": [
    {
     "data": {
      "text/html": [
       "<div>\n",
       "<style scoped>\n",
       "    .dataframe tbody tr th:only-of-type {\n",
       "        vertical-align: middle;\n",
       "    }\n",
       "\n",
       "    .dataframe tbody tr th {\n",
       "        vertical-align: top;\n",
       "    }\n",
       "\n",
       "    .dataframe thead th {\n",
       "        text-align: right;\n",
       "    }\n",
       "</style>\n",
       "<table border=\"1\" class=\"dataframe\">\n",
       "  <thead>\n",
       "    <tr style=\"text-align: right;\">\n",
       "      <th></th>\n",
       "      <th>Peso</th>\n",
       "      <th>Altura</th>\n",
       "      <th>Hijos</th>\n",
       "    </tr>\n",
       "  </thead>\n",
       "  <tbody>\n",
       "    <tr>\n",
       "      <th>Arturo</th>\n",
       "      <td>70</td>\n",
       "      <td>169</td>\n",
       "      <td>NaN</td>\n",
       "    </tr>\n",
       "    <tr>\n",
       "      <th>Mauricio</th>\n",
       "      <td>65</td>\n",
       "      <td>170</td>\n",
       "      <td>NaN</td>\n",
       "    </tr>\n",
       "    <tr>\n",
       "      <th>Rebeca</th>\n",
       "      <td>60</td>\n",
       "      <td>160</td>\n",
       "      <td>2.0</td>\n",
       "    </tr>\n",
       "    <tr>\n",
       "      <th>Yulisa</th>\n",
       "      <td>48</td>\n",
       "      <td>156</td>\n",
       "      <td>3.0</td>\n",
       "    </tr>\n",
       "  </tbody>\n",
       "</table>\n",
       "</div>"
      ],
      "text/plain": [
       "          Peso  Altura  Hijos\n",
       "Arturo      70     169    NaN\n",
       "Mauricio    65     170    NaN\n",
       "Rebeca      60     160    2.0\n",
       "Yulisa      48     156    3.0"
      ]
     },
     "execution_count": 51,
     "metadata": {},
     "output_type": "execute_result"
    }
   ],
   "source": [
    "Personas = {\n",
    "    \"Peso\": pd.Series([65,60,70,48,],[\"Mauricio\",\"Rebeca\",\"Arturo\",\"Yulisa\"]),\n",
    "    \"Altura\" : pd.Series({\"Mauricio\":170,\"Rebeca\":160,\"Arturo\":169,\"Yulisa\":156}),\n",
    "    \"Hijos\" : pd.Series([2,3],[\"Rebeca\",\"Yulisa\"])\n",
    "} \n",
    "df = pd.DataFrame(Personas)\n",
    "df\n",
    "\n"
   ]
  },
  {
   "cell_type": "code",
   "execution_count": 52,
   "id": "b04ce051",
   "metadata": {},
   "outputs": [],
   "source": [
    "# Guardar el DataFrame comoCSV, HTML JASON\n",
    "\n",
    "df.to_csv(\"df_Personas.csv\")\n",
    "df.to_html(\"df_Personas.html\")\n",
    "df.to_json(\"df_Personas.json\")"
   ]
  },
  {
   "cell_type": "code",
   "execution_count": 53,
   "id": "6b77c70b",
   "metadata": {},
   "outputs": [],
   "source": [
    "#Cargar el Dta FRame en Jupyter \n",
    "\n",
    "df2 =pd.read_csv(\"df_Personas.csv\")\n"
   ]
  },
  {
   "cell_type": "code",
   "execution_count": 54,
   "id": "2d6a0245",
   "metadata": {},
   "outputs": [
    {
     "data": {
      "text/html": [
       "<div>\n",
       "<style scoped>\n",
       "    .dataframe tbody tr th:only-of-type {\n",
       "        vertical-align: middle;\n",
       "    }\n",
       "\n",
       "    .dataframe tbody tr th {\n",
       "        vertical-align: top;\n",
       "    }\n",
       "\n",
       "    .dataframe thead th {\n",
       "        text-align: right;\n",
       "    }\n",
       "</style>\n",
       "<table border=\"1\" class=\"dataframe\">\n",
       "  <thead>\n",
       "    <tr style=\"text-align: right;\">\n",
       "      <th></th>\n",
       "      <th>Unnamed: 0</th>\n",
       "      <th>Peso</th>\n",
       "      <th>Altura</th>\n",
       "      <th>Hijos</th>\n",
       "    </tr>\n",
       "  </thead>\n",
       "  <tbody>\n",
       "    <tr>\n",
       "      <th>0</th>\n",
       "      <td>Arturo</td>\n",
       "      <td>70</td>\n",
       "      <td>169</td>\n",
       "      <td>NaN</td>\n",
       "    </tr>\n",
       "    <tr>\n",
       "      <th>1</th>\n",
       "      <td>Mauricio</td>\n",
       "      <td>65</td>\n",
       "      <td>170</td>\n",
       "      <td>NaN</td>\n",
       "    </tr>\n",
       "    <tr>\n",
       "      <th>2</th>\n",
       "      <td>Rebeca</td>\n",
       "      <td>60</td>\n",
       "      <td>160</td>\n",
       "      <td>2.0</td>\n",
       "    </tr>\n",
       "    <tr>\n",
       "      <th>3</th>\n",
       "      <td>Yulisa</td>\n",
       "      <td>48</td>\n",
       "      <td>156</td>\n",
       "      <td>3.0</td>\n",
       "    </tr>\n",
       "  </tbody>\n",
       "</table>\n",
       "</div>"
      ],
      "text/plain": [
       "  Unnamed: 0  Peso  Altura  Hijos\n",
       "0     Arturo    70     169    NaN\n",
       "1   Mauricio    65     170    NaN\n",
       "2     Rebeca    60     160    2.0\n",
       "3     Yulisa    48     156    3.0"
      ]
     },
     "execution_count": 54,
     "metadata": {},
     "output_type": "execute_result"
    }
   ],
   "source": [
    "df2"
   ]
  },
  {
   "cell_type": "code",
   "execution_count": 55,
   "id": "aaccb4fd",
   "metadata": {},
   "outputs": [
    {
     "data": {
      "text/html": [
       "<div>\n",
       "<style scoped>\n",
       "    .dataframe tbody tr th:only-of-type {\n",
       "        vertical-align: middle;\n",
       "    }\n",
       "\n",
       "    .dataframe tbody tr th {\n",
       "        vertical-align: top;\n",
       "    }\n",
       "\n",
       "    .dataframe thead th {\n",
       "        text-align: right;\n",
       "    }\n",
       "</style>\n",
       "<table border=\"1\" class=\"dataframe\">\n",
       "  <thead>\n",
       "    <tr style=\"text-align: right;\">\n",
       "      <th></th>\n",
       "      <th>Peso</th>\n",
       "      <th>Altura</th>\n",
       "      <th>Hijos</th>\n",
       "    </tr>\n",
       "  </thead>\n",
       "  <tbody>\n",
       "    <tr>\n",
       "      <th>Arturo</th>\n",
       "      <td>70</td>\n",
       "      <td>169</td>\n",
       "      <td>NaN</td>\n",
       "    </tr>\n",
       "    <tr>\n",
       "      <th>Mauricio</th>\n",
       "      <td>65</td>\n",
       "      <td>170</td>\n",
       "      <td>NaN</td>\n",
       "    </tr>\n",
       "    <tr>\n",
       "      <th>Rebeca</th>\n",
       "      <td>60</td>\n",
       "      <td>160</td>\n",
       "      <td>2.0</td>\n",
       "    </tr>\n",
       "    <tr>\n",
       "      <th>Yulisa</th>\n",
       "      <td>48</td>\n",
       "      <td>156</td>\n",
       "      <td>3.0</td>\n",
       "    </tr>\n",
       "  </tbody>\n",
       "</table>\n",
       "</div>"
      ],
      "text/plain": [
       "          Peso  Altura  Hijos\n",
       "Arturo      70     169    NaN\n",
       "Mauricio    65     170    NaN\n",
       "Rebeca      60     160    2.0\n",
       "Yulisa      48     156    3.0"
      ]
     },
     "execution_count": 55,
     "metadata": {},
     "output_type": "execute_result"
    }
   ],
   "source": [
    "\n",
    "# Cargar el Data Frame con la primera columna\n",
    "# Columna correctamente asignada \n",
    "\n",
    "df2 = pd.read_csv(\"df_Personas.csv\",index_col=0)\n",
    "df2\n"
   ]
  }
 ],
 "metadata": {
  "kernelspec": {
   "display_name": ".venv",
   "language": "python",
   "name": "python3"
  },
  "language_info": {
   "codemirror_mode": {
    "name": "ipython",
    "version": 3
   },
   "file_extension": ".py",
   "mimetype": "text/x-python",
   "name": "python",
   "nbconvert_exporter": "python",
   "pygments_lexer": "ipython3",
   "version": "3.13.7"
  }
 },
 "nbformat": 4,
 "nbformat_minor": 5
}
